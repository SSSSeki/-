{
  "nbformat": 4,
  "nbformat_minor": 0,
  "metadata": {
    "colab": {
      "provenance": [],
      "authorship_tag": "ABX9TyNChz78UfEJP27U/IpRC4L/",
      "include_colab_link": true
    },
    "kernelspec": {
      "name": "python3",
      "display_name": "Python 3"
    },
    "language_info": {
      "name": "python"
    }
  },
  "cells": [
    {
      "cell_type": "markdown",
      "metadata": {
        "id": "view-in-github",
        "colab_type": "text"
      },
      "source": [
        "<a href=\"https://colab.research.google.com/github/SSSSeki/-/blob/master/PythonCraft.ipynb\" target=\"_parent\"><img src=\"https://colab.research.google.com/assets/colab-badge.svg\" alt=\"Open In Colab\"/></a>"
      ]
    },
    {
      "cell_type": "code",
      "execution_count": null,
      "metadata": {
        "colab": {
          "base_uri": "https://localhost:8080/"
        },
        "id": "VcxVNkvH3BLl",
        "outputId": "a034e03e-8ddb-41a7-c19e-9962656bceec"
      },
      "outputs": [
        {
          "name": "stdout",
          "output_type": "stream",
          "text": [
            "Press 1 to dice or 0 to exit:\n",
            "0\n"
          ]
        }
      ],
      "source": [
        "#rolling dice\n",
        "import random\n",
        "\n",
        "print(\"Press 1 to dice or 0 to exit:\")\n",
        "while(int(input())):  #int()is used for controlling if loop will be stopped\n",
        "  print(random.randint(1,6))"
      ]
    },
    {
      "cell_type": "code",
      "source": [
        "#随机密码生成器\n",
        "\n",
        "import random\n",
        "sequence = []\n",
        "password = ''\n",
        "\n",
        "def set_password(n=6):\n",
        " for i in range(0,n):\n",
        "  key = chr(random.randint(33,126))\n",
        "  sequence.append(key)\n",
        " password = ''.join(sequence)    #list is iterable but str is not\n",
        " print(\"The password is: \",password)\n",
        "\n",
        "set_password(int(input(\"Please enter the length of your password:\")))"
      ],
      "metadata": {
        "colab": {
          "base_uri": "https://localhost:8080/"
        },
        "id": "NRylpo0p3SEf",
        "outputId": "b66340aa-de35-4a34-dbe1-044b620374a7"
      },
      "execution_count": null,
      "outputs": [
        {
          "output_type": "stream",
          "name": "stdout",
          "text": [
            "Please enter the length of your password:8\n",
            "The password is:  jib4gc(I\n"
          ]
        }
      ]
    },
    {
      "cell_type": "code",
      "source": [
        "#猜数字\n",
        "import random\n",
        "num = random.randint(1,10)\n",
        "\n",
        "for i in range(0,3):\n",
        "  miao = int(input(\"Guess the number\\n\"))\n",
        "  if miao == num:\n",
        "    print(\"Your number is right!\")\n",
        "    break\n",
        "  elif miao > num:\n",
        "    print(\"Your number is too large!\")\n",
        "  elif miao < num:\n",
        "    print(\"Your number is too small\")\n",
        "else:\n",
        "  print(\"Nice try! The correct number is \",num)"
      ],
      "metadata": {
        "colab": {
          "base_uri": "https://localhost:8080/"
        },
        "id": "QXvMTPVh3V43",
        "outputId": "42eb8e84-ef7c-4232-84b0-c7cf0a2d1b94"
      },
      "execution_count": null,
      "outputs": [
        {
          "output_type": "stream",
          "name": "stdout",
          "text": [
            "Guess the number\n",
            "5\n",
            "Your number is too small\n",
            "Guess the number\n",
            "8\n",
            "Your number is too large!\n",
            "Guess the number\n",
            "7\n",
            "Your number is right!\n"
          ]
        }
      ]
    },
    {
      "cell_type": "code",
      "source": [
        "#分割邮件地址\n",
        "address = input(\"What's your email address: xxxx@yy.zz\\n\")\n",
        "print(address.split('@')[0],address.split('@')[1])"
      ],
      "metadata": {
        "colab": {
          "base_uri": "https://localhost:8080/"
        },
        "id": "rAwvd4m63nvH",
        "outputId": "884ad724-536a-4ecc-eae8-76f6add53418"
      },
      "execution_count": null,
      "outputs": [
        {
          "output_type": "stream",
          "name": "stdout",
          "text": [
            "What's your email address: xxxx@yy.zz\n",
            "yyc@gmail.com\n",
            "yyc gmail.com\n"
          ]
        }
      ]
    },
    {
      "cell_type": "code",
      "source": [
        "#发送邮件\n",
        "import time\n",
        "from email.mime.text import MIMEText\n",
        "from email.header import Header\n",
        "import smtplib\n",
        "\n",
        "class SendEmail:\n",
        "  mail_body = \"\"\n",
        "  send_addr = \"\"\n",
        "  receive_addr = \"\"\n",
        "  subject = \"\"\n",
        "  mail_server = ''\n",
        "  \n",
        "  def set_info(send_address,receive_address,title,mailbody):\n",
        "    send_addr = send_address\n",
        "    receive_addr = receive_address\n",
        "    subject = title\n",
        "    mail_body = mailbody\n",
        "\n",
        "\n",
        "  def sendEmail(self,new_report):\n",
        "    with open(new_report,'r',encoding='utf8') as f:\n",
        "      mail_body = f.read()\n",
        "    \n",
        "    now = time.strftime(\"%Y-%m-%d %H_%M_%S\")\n",
        "    subject = subject + now\n",
        "    password = None #邮箱授权码\n",
        "\n",
        "    #邮件内容和标题\n",
        "    message = MIMEText(mail_body, 'html', 'utf8')\n",
        "    message['Subject'] = Header(subject, charset='utf8')\n",
        "\n",
        "    #发送邮件，使用smtp协议\n",
        "    smtp = smtplib.SMTP()\n",
        "    mail_server = smtp.gmail.com\n",
        "    smtp.connect(self.mail_server)\n",
        "    smtp.login(self.send_addr,password)\n",
        "    smtp.sendmail(self.send_addr, self.reciver_addr.split(','), message.as_string())\n",
        "    smtp.quit()\n",
        "\n",
        "if __name__ == '__main__':\n",
        "    SendEmail().set_info(\"sytindividual@gmail.com\",\"s2210096@gmail.com\",\"Generation Text from GPT2\",\"Dear seki, this is the generation report from GPT2 model,please search the attachment.\")\n",
        "    SendEmail().sendEmail()\n",
        "      "
      ],
      "metadata": {
        "id": "NwrOfKWqFg6t"
      },
      "execution_count": null,
      "outputs": []
    },
    {
      "cell_type": "code",
      "source": [
        "#缩写词\n",
        "sentence= input(\"Abbreviations: \\n\").split()\n",
        "abbr = \"\".join(i[0].capitalize() for i in sentence)\n",
        "print(abbr)"
      ],
      "metadata": {
        "id": "rxmkEzsUAr0g",
        "colab": {
          "base_uri": "https://localhost:8080/"
        },
        "outputId": "a19a6351-ff60-42e6-85ef-eb81847f7b8b"
      },
      "execution_count": null,
      "outputs": [
        {
          "output_type": "stream",
          "name": "stdout",
          "text": [
            "Abbreviations: \n",
            "Generative Adversarial Network\n",
            "GAN\n"
          ]
        }
      ]
    },
    {
      "cell_type": "code",
      "source": [
        "!pip install pyttsx3\n",
        "!pip install PyPDF2"
      ],
      "metadata": {
        "colab": {
          "base_uri": "https://localhost:8080/"
        },
        "id": "cayurKUCNbtk",
        "outputId": "62f94864-29cc-444e-ad63-3e9288b40387"
      },
      "execution_count": null,
      "outputs": [
        {
          "output_type": "stream",
          "name": "stdout",
          "text": [
            "Looking in indexes: https://pypi.org/simple, https://us-python.pkg.dev/colab-wheels/public/simple/\n",
            "Requirement already satisfied: pyttsx3 in /usr/local/lib/python3.7/dist-packages (2.90)\n",
            "Looking in indexes: https://pypi.org/simple, https://us-python.pkg.dev/colab-wheels/public/simple/\n",
            "Collecting PyPDF2\n",
            "  Downloading PyPDF2-2.11.1-py3-none-any.whl (220 kB)\n",
            "\u001b[K     |████████████████████████████████| 220 kB 5.5 MB/s \n",
            "\u001b[?25hRequirement already satisfied: typing-extensions>=3.10.0.0 in /usr/local/lib/python3.7/dist-packages (from PyPDF2) (4.1.1)\n",
            "Installing collected packages: PyPDF2\n",
            "Successfully installed PyPDF2-2.11.1\n"
          ]
        }
      ]
    },
    {
      "cell_type": "code",
      "source": [
        "#PDF转有声读物\n",
        "import pyttsx3\n",
        "import PyPDF2\n",
        "\n",
        "file = ''\n",
        "pdfReader = PyPDF2.PdfFileReader(open(file,'rb'))\n",
        "speaker = pyttsx.init()\n"
      ],
      "metadata": {
        "id": "Yzx1L6hNInMh"
      },
      "execution_count": null,
      "outputs": []
    }
  ]
}