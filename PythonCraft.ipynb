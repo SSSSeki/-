{
  "nbformat": 4,
  "nbformat_minor": 0,
  "metadata": {
    "colab": {
      "provenance": [],
      "authorship_tag": "ABX9TyMiu3Rj0ft213ESi13biY/y",
      "include_colab_link": true
    },
    "kernelspec": {
      "name": "python3",
      "display_name": "Python 3"
    },
    "language_info": {
      "name": "python"
    }
  },
  "cells": [
    {
      "cell_type": "markdown",
      "metadata": {
        "id": "view-in-github",
        "colab_type": "text"
      },
      "source": [
        "<a href=\"https://colab.research.google.com/github/SSSSeki/-/blob/master/PythonCraft.ipynb\" target=\"_parent\"><img src=\"https://colab.research.google.com/assets/colab-badge.svg\" alt=\"Open In Colab\"/></a>"
      ]
    },
    {
      "cell_type": "code",
      "execution_count": null,
      "metadata": {
        "colab": {
          "base_uri": "https://localhost:8080/"
        },
        "id": "VcxVNkvH3BLl",
        "outputId": "a034e03e-8ddb-41a7-c19e-9962656bceec"
      },
      "outputs": [
        {
          "name": "stdout",
          "output_type": "stream",
          "text": [
            "Press 1 to dice or 0 to exit:\n",
            "0\n"
          ]
        }
      ],
      "source": [
        "#rolling dice\n",
        "import random\n",
        "\n",
        "print(\"Press 1 to dice or 0 to exit:\")\n",
        "while(int(input())):  #int()is used for controlling if loop will be stopped\n",
        "  print(random.randint(1,6))"
      ]
    },
    {
      "cell_type": "code",
      "source": [
        "#随机密码生成器\n",
        "\n",
        "import random\n",
        "sequence = []\n",
        "password = ''\n",
        "\n",
        "def set_password(n=6):\n",
        " for i in range(0,n):\n",
        "  key = chr(random.randint(33,126))\n",
        "  sequence.append(key)\n",
        " password = ''.join(sequence)    #list is iterable but str is not\n",
        " print(\"The password is: \",password)\n",
        "\n",
        "set_password(int(input(\"Please enter the length of your password:\")))"
      ],
      "metadata": {
        "colab": {
          "base_uri": "https://localhost:8080/"
        },
        "id": "NRylpo0p3SEf",
        "outputId": "b66340aa-de35-4a34-dbe1-044b620374a7"
      },
      "execution_count": null,
      "outputs": [
        {
          "output_type": "stream",
          "name": "stdout",
          "text": [
            "Please enter the length of your password:8\n",
            "The password is:  jib4gc(I\n"
          ]
        }
      ]
    },
    {
      "cell_type": "code",
      "source": [
        "#猜数字\n",
        "import random\n",
        "num = random.randint(1,10)\n",
        "\n",
        "for i in range(0,3):\n",
        "  miao = int(input(\"Guess the number\\n\"))\n",
        "  if miao == num:\n",
        "    print(\"Your number is right!\")\n",
        "    break\n",
        "  elif miao > num:\n",
        "    print(\"Your number is too large!\")\n",
        "  elif miao < num:\n",
        "    print(\"Your number is too small\")\n",
        "else:\n",
        "  print(\"Nice try! The correct number is \",num)"
      ],
      "metadata": {
        "colab": {
          "base_uri": "https://localhost:8080/"
        },
        "id": "QXvMTPVh3V43",
        "outputId": "42eb8e84-ef7c-4232-84b0-c7cf0a2d1b94"
      },
      "execution_count": null,
      "outputs": [
        {
          "output_type": "stream",
          "name": "stdout",
          "text": [
            "Guess the number\n",
            "5\n",
            "Your number is too small\n",
            "Guess the number\n",
            "8\n",
            "Your number is too large!\n",
            "Guess the number\n",
            "7\n",
            "Your number is right!\n"
          ]
        }
      ]
    },
    {
      "cell_type": "code",
      "source": [
        "#分割邮件地址\n",
        "address = input(\"What's your email address: xxxx@yy.zz\\n\")\n",
        "print(address.split('@')[0],address.split('@')[1])"
      ],
      "metadata": {
        "colab": {
          "base_uri": "https://localhost:8080/"
        },
        "id": "rAwvd4m63nvH",
        "outputId": "884ad724-536a-4ecc-eae8-76f6add53418"
      },
      "execution_count": null,
      "outputs": [
        {
          "output_type": "stream",
          "name": "stdout",
          "text": [
            "What's your email address: xxxx@yy.zz\n",
            "yyc@gmail.com\n",
            "yyc gmail.com\n"
          ]
        }
      ]
    },
    {
      "cell_type": "code",
      "source": [
        "#发送邮件\n",
        "import time\n",
        "from email.mime.text import MIMEText\n",
        "from email.header import Header\n",
        "import smtplib\n",
        "\n",
        "class SendEmail:\n",
        "  mail_body = \"\"\n",
        "  send_addr = \"\"\n",
        "  receive_addr = \"\"\n",
        "  subject = \"\"\n",
        "  mail_server = ''\n",
        "  \n",
        "  def set_info(send_address,receive_address,title,mailbody):\n",
        "    send_addr = send_address\n",
        "    receive_addr = receive_address\n",
        "    subject = title\n",
        "    mail_body = mailbody\n",
        "\n",
        "\n",
        "  def sendEmail(self,new_report):\n",
        "    with open(new_report,'r',encoding='utf8') as f:\n",
        "      mail_body = f.read()\n",
        "    \n",
        "    now = time.strftime(\"%Y-%m-%d %H_%M_%S\")\n",
        "    subject = subject + now\n",
        "    password = None #邮箱授权码\n",
        "\n",
        "    #邮件内容和标题\n",
        "    message = MIMEText(mail_body, 'html', 'utf8')\n",
        "    message['Subject'] = Header(subject, charset='utf8')\n",
        "\n",
        "    #发送邮件，使用smtp协议\n",
        "    smtp = smtplib.SMTP()\n",
        "    mail_server = smtp.gmail.com\n",
        "    smtp.connect(self.mail_server)\n",
        "    smtp.login(self.send_addr,password)\n",
        "    smtp.sendmail(self.send_addr, self.reciver_addr.split(','), message.as_string())\n",
        "    smtp.quit()\n",
        "\n",
        "if __name__ == '__main__':\n",
        "    SendEmail().set_info(\"sytindividual@gmail.com\",\"s2210096@gmail.com\",\"Generation Text from GPT2\",\"Dear seki, this is the generation report from GPT2 model,please search the attachment.\")\n",
        "    SendEmail().sendEmail()\n",
        "      "
      ],
      "metadata": {
        "id": "NwrOfKWqFg6t"
      },
      "execution_count": null,
      "outputs": []
    },
    {
      "cell_type": "code",
      "source": [
        "#缩写词\n",
        "sentence= input(\"Abbreviations: \\n\").split()\n",
        "abbr = \"\".join(i[0].capitalize() for i in sentence)\n",
        "print(abbr)"
      ],
      "metadata": {
        "id": "rxmkEzsUAr0g",
        "colab": {
          "base_uri": "https://localhost:8080/"
        },
        "outputId": "a19a6351-ff60-42e6-85ef-eb81847f7b8b"
      },
      "execution_count": null,
      "outputs": [
        {
          "output_type": "stream",
          "name": "stdout",
          "text": [
            "Abbreviations: \n",
            "Generative Adversarial Network\n",
            "GAN\n"
          ]
        }
      ]
    },
    {
      "cell_type": "code",
      "source": [
        "!pip install pyttsx3\n",
        "!pip install PyPDF2"
      ],
      "metadata": {
        "colab": {
          "base_uri": "https://localhost:8080/"
        },
        "id": "cayurKUCNbtk",
        "outputId": "81f4f17f-4f2c-420d-ce2f-cd0bf6425a62"
      },
      "execution_count": null,
      "outputs": [
        {
          "output_type": "stream",
          "name": "stdout",
          "text": [
            "Looking in indexes: https://pypi.org/simple, https://us-python.pkg.dev/colab-wheels/public/simple/\n",
            "Collecting pyttsx3\n",
            "  Downloading pyttsx3-2.90-py3-none-any.whl (39 kB)\n",
            "Installing collected packages: pyttsx3\n",
            "Successfully installed pyttsx3-2.90\n",
            "Looking in indexes: https://pypi.org/simple, https://us-python.pkg.dev/colab-wheels/public/simple/\n",
            "Collecting PyPDF2\n",
            "  Downloading PyPDF2-2.11.1-py3-none-any.whl (220 kB)\n",
            "\u001b[K     |████████████████████████████████| 220 kB 7.5 MB/s \n",
            "\u001b[?25hRequirement already satisfied: typing-extensions>=3.10.0.0 in /usr/local/lib/python3.7/dist-packages (from PyPDF2) (4.1.1)\n",
            "Installing collected packages: PyPDF2\n",
            "Successfully installed PyPDF2-2.11.1\n"
          ]
        }
      ]
    },
    {
      "cell_type": "code",
      "source": [
        "!sudo apt install espeak"
      ],
      "metadata": {
        "colab": {
          "base_uri": "https://localhost:8080/"
        },
        "id": "iKywkyY9JXpm",
        "outputId": "629f3699-ca4a-42b0-dfdf-7c80acfdfd20"
      },
      "execution_count": null,
      "outputs": [
        {
          "output_type": "stream",
          "name": "stdout",
          "text": [
            "Reading package lists... Done\n",
            "Building dependency tree       \n",
            "Reading state information... Done\n",
            "The following package was automatically installed and is no longer required:\n",
            "  libnvidia-common-460\n",
            "Use 'sudo apt autoremove' to remove it.\n",
            "The following additional packages will be installed:\n",
            "  espeak-data libespeak1 libportaudio2 libsonic0\n",
            "The following NEW packages will be installed:\n",
            "  espeak espeak-data libespeak1 libportaudio2 libsonic0\n",
            "0 upgraded, 5 newly installed, 0 to remove and 12 not upgraded.\n",
            "Need to get 1,219 kB of archives.\n",
            "After this operation, 3,031 kB of additional disk space will be used.\n",
            "Get:1 http://archive.ubuntu.com/ubuntu bionic/universe amd64 libportaudio2 amd64 19.6.0-1 [64.6 kB]\n",
            "Get:2 http://archive.ubuntu.com/ubuntu bionic/main amd64 libsonic0 amd64 0.2.0-6 [13.4 kB]\n",
            "Get:3 http://archive.ubuntu.com/ubuntu bionic/universe amd64 espeak-data amd64 1.48.04+dfsg-5 [934 kB]\n",
            "Get:4 http://archive.ubuntu.com/ubuntu bionic/universe amd64 libespeak1 amd64 1.48.04+dfsg-5 [145 kB]\n",
            "Get:5 http://archive.ubuntu.com/ubuntu bionic/universe amd64 espeak amd64 1.48.04+dfsg-5 [61.6 kB]\n",
            "Fetched 1,219 kB in 1s (858 kB/s)\n",
            "debconf: unable to initialize frontend: Dialog\n",
            "debconf: (No usable dialog-like program is installed, so the dialog based frontend cannot be used. at /usr/share/perl5/Debconf/FrontEnd/Dialog.pm line 76, <> line 5.)\n",
            "debconf: falling back to frontend: Readline\n",
            "debconf: unable to initialize frontend: Readline\n",
            "debconf: (This frontend requires a controlling tty.)\n",
            "debconf: falling back to frontend: Teletype\n",
            "dpkg-preconfigure: unable to re-open stdin: \n",
            "Selecting previously unselected package libportaudio2:amd64.\n",
            "(Reading database ... 123934 files and directories currently installed.)\n",
            "Preparing to unpack .../libportaudio2_19.6.0-1_amd64.deb ...\n",
            "Unpacking libportaudio2:amd64 (19.6.0-1) ...\n",
            "Selecting previously unselected package libsonic0:amd64.\n",
            "Preparing to unpack .../libsonic0_0.2.0-6_amd64.deb ...\n",
            "Unpacking libsonic0:amd64 (0.2.0-6) ...\n",
            "Selecting previously unselected package espeak-data:amd64.\n",
            "Preparing to unpack .../espeak-data_1.48.04+dfsg-5_amd64.deb ...\n",
            "Unpacking espeak-data:amd64 (1.48.04+dfsg-5) ...\n",
            "Selecting previously unselected package libespeak1:amd64.\n",
            "Preparing to unpack .../libespeak1_1.48.04+dfsg-5_amd64.deb ...\n",
            "Unpacking libespeak1:amd64 (1.48.04+dfsg-5) ...\n",
            "Selecting previously unselected package espeak.\n",
            "Preparing to unpack .../espeak_1.48.04+dfsg-5_amd64.deb ...\n",
            "Unpacking espeak (1.48.04+dfsg-5) ...\n",
            "Setting up libportaudio2:amd64 (19.6.0-1) ...\n",
            "Setting up espeak-data:amd64 (1.48.04+dfsg-5) ...\n",
            "Setting up libsonic0:amd64 (0.2.0-6) ...\n",
            "Setting up libespeak1:amd64 (1.48.04+dfsg-5) ...\n",
            "Setting up espeak (1.48.04+dfsg-5) ...\n",
            "Processing triggers for man-db (2.8.3-2ubuntu0.1) ...\n",
            "Processing triggers for libc-bin (2.27-3ubuntu1.6) ...\n"
          ]
        }
      ]
    },
    {
      "cell_type": "code",
      "source": [
        "#PDF转有声读物\n",
        "import pyttsx3\n",
        "#import PyPDF2\n",
        "\n",
        "file = ''\n",
        "text = 'My name is YYC, I found that I dropped into the world of Dota2.'\n",
        "\n",
        "#pdfReader = PyPDF2.PdfFileReader(open(file,'rb'))\n",
        "speaker = pyttsx3.init()\n",
        "speaker.say(text)\n",
        "speaker.runAndWait()\n",
        "speaker.stop()\n",
        "#不知道为什么，在google colab里播放不了"
      ],
      "metadata": {
        "id": "Yzx1L6hNInMh"
      },
      "execution_count": null,
      "outputs": []
    },
    {
      "cell_type": "code",
      "source": [
        "#使用爬虫获取城市天气信息\n",
        "from bs4 import BeautifulSoup\n",
        "import requests\n",
        "\n",
        "headers = {'User-Agent': 'Mozilla/5.0 (Windows NT 10.0; Win64; x64) AppleWebKit/537.36 (KHTML, like Gecko) Chrome/58.0.3029.110 Safari/537.3'}\n",
        "\n",
        "def weather(city):\n",
        "  city = city.replace(\" \",\"+\")\n",
        "  res = requests.get(f'https://www.google.com/search?q={city}&oq={city}&aqs=chrome.0.35i39l2j0l4j46j69i60.6128j1j7&sourceid=chrome&ie=UTF-8',headers=headers)\n",
        "  print(\"Searching in Google\")\n",
        "  soup = BeautifulSoup(res.text,'html.parser')\n",
        "  location = soup.select('#wob_loc')[0].getText().strip()  \n",
        "  time = soup.select('#wob_dts')[0].getText().strip()       \n",
        "  info = soup.select('#wob_dc')[0].getText().strip() \n",
        "\n",
        "  weather = soup.select('#wob_ttm')[0].getText().strip()\n",
        "  humidity = soup.select('#wob_hm')[0].getText().strip()\n",
        "\n",
        "\n",
        "  print(location)\n",
        "  print(time)\n",
        "  print(info)\n",
        "  print(weather+\"°C\") \n",
        "  print(humidity)\n",
        "\n",
        "city = input(\"Enter city name\\n\")\n",
        "city = city+\" weather\"\n",
        "weather(city)\n"
      ],
      "metadata": {
        "colab": {
          "base_uri": "https://localhost:8080/"
        },
        "id": "MEgUqP2TMlbL",
        "outputId": "51c5ef8e-49ff-4aa3-8646-1ac771affe5e"
      },
      "execution_count": null,
      "outputs": [
        {
          "output_type": "stream",
          "name": "stdout",
          "text": [
            "Enter city name\n",
            "kurayoshi\n",
            "Searching in Google\n",
            "Kurayoshi, Tottori, Japan\n",
            "Tuesday 10:00 PM\n",
            "Cloudy\n",
            "13°C\n",
            "96%\n"
          ]
        }
      ]
    },
    {
      "cell_type": "code",
      "source": [
        "import cv2\n",
        "# Load the cascade\n",
        "face_cascade = cv2.CascadeClassifier('haarcascade_frontalface_default.xml')\n",
        "# Read the input image\n",
        "img = cv2.imread('images/img0.jpg')\n",
        "# Convert into grayscale\n",
        "gray = cv2.cvtColor(img, cv2.COLOR_BGR2GRAY)\n",
        "# Detect faces\n",
        "faces = face_cascade.detectMultiScale(gray, 1.3, 4)\n",
        "# Draw rectangle around the faces\n",
        "for (x, y, w, h) in faces:\n",
        "    cv2.rectangle(img, (x, y), (x+w, y+h), (255, 0, 0), 2)\n",
        "    crop_face = img[y:y + h, x:x + w]  \n",
        "    cv2.imwrite(str(w) + str(h) + '_faces.jpg', crop_face)\n",
        "# Display the output\n",
        "cv2.imshow('img', img)\n",
        "cv2.imshow(\"imgcropped\",crop_face)\n",
        "cv2.waitKey()"
      ],
      "metadata": {
        "id": "g_cwT04zSn9S",
        "colab": {
          "base_uri": "https://localhost:8080/",
          "height": 244
        },
        "outputId": "1001bd92-154a-4cb6-c72e-0dae3f988b3e"
      },
      "execution_count": null,
      "outputs": [
        {
          "output_type": "error",
          "ename": "error",
          "evalue": "ignored",
          "traceback": [
            "\u001b[0;31m---------------------------------------------------------------------------\u001b[0m",
            "\u001b[0;31merror\u001b[0m                                     Traceback (most recent call last)",
            "\u001b[0;32m<ipython-input-1-32c6c1fa0fa8>\u001b[0m in \u001b[0;36m<module>\u001b[0;34m\u001b[0m\n\u001b[1;32m      5\u001b[0m \u001b[0mimg\u001b[0m \u001b[0;34m=\u001b[0m \u001b[0mcv2\u001b[0m\u001b[0;34m.\u001b[0m\u001b[0mimread\u001b[0m\u001b[0;34m(\u001b[0m\u001b[0;34m'images/img0.jpg'\u001b[0m\u001b[0;34m)\u001b[0m\u001b[0;34m\u001b[0m\u001b[0;34m\u001b[0m\u001b[0m\n\u001b[1;32m      6\u001b[0m \u001b[0;31m# Convert into grayscale\u001b[0m\u001b[0;34m\u001b[0m\u001b[0;34m\u001b[0m\u001b[0;34m\u001b[0m\u001b[0m\n\u001b[0;32m----> 7\u001b[0;31m \u001b[0mgray\u001b[0m \u001b[0;34m=\u001b[0m \u001b[0mcv2\u001b[0m\u001b[0;34m.\u001b[0m\u001b[0mcvtColor\u001b[0m\u001b[0;34m(\u001b[0m\u001b[0mimg\u001b[0m\u001b[0;34m,\u001b[0m \u001b[0mcv2\u001b[0m\u001b[0;34m.\u001b[0m\u001b[0mCOLOR_BGR2GRAY\u001b[0m\u001b[0;34m)\u001b[0m\u001b[0;34m\u001b[0m\u001b[0;34m\u001b[0m\u001b[0m\n\u001b[0m\u001b[1;32m      8\u001b[0m \u001b[0;31m# Detect faces\u001b[0m\u001b[0;34m\u001b[0m\u001b[0;34m\u001b[0m\u001b[0;34m\u001b[0m\u001b[0m\n\u001b[1;32m      9\u001b[0m \u001b[0mfaces\u001b[0m \u001b[0;34m=\u001b[0m \u001b[0mface_cascade\u001b[0m\u001b[0;34m.\u001b[0m\u001b[0mdetectMultiScale\u001b[0m\u001b[0;34m(\u001b[0m\u001b[0mgray\u001b[0m\u001b[0;34m,\u001b[0m \u001b[0;36m1.3\u001b[0m\u001b[0;34m,\u001b[0m \u001b[0;36m4\u001b[0m\u001b[0;34m)\u001b[0m\u001b[0;34m\u001b[0m\u001b[0;34m\u001b[0m\u001b[0m\n",
            "\u001b[0;31merror\u001b[0m: OpenCV(4.6.0) /io/opencv/modules/imgproc/src/color.cpp:182: error: (-215:Assertion failed) !_src.empty() in function 'cvtColor'\n"
          ]
        }
      ]
    },
    {
      "cell_type": "code",
      "source": [
        "!pip install win10toast"
      ],
      "metadata": {
        "colab": {
          "base_uri": "https://localhost:8080/"
        },
        "id": "YUdF4r__CwRl",
        "outputId": "3675b1c6-5ff0-48fd-fa91-2c2a11de69b7"
      },
      "execution_count": null,
      "outputs": [
        {
          "output_type": "stream",
          "name": "stdout",
          "text": [
            "Looking in indexes: https://pypi.org/simple, https://us-python.pkg.dev/colab-wheels/public/simple/\n",
            "Collecting win10toast\n",
            "  Downloading win10toast-0.9-py2.py3-none-any.whl (21 kB)\n",
            "Requirement already satisfied: setuptools in /usr/local/lib/python3.7/dist-packages (from win10toast) (57.4.0)\n",
            "Collecting pypiwin32\n",
            "  Downloading pypiwin32-223-py3-none-any.whl (1.7 kB)\n",
            "  Downloading pypiwin32-219.zip (4.8 MB)\n",
            "\u001b[K     |████████████████████████████████| 4.8 MB 7.2 MB/s \n",
            "\u001b[33mWARNING: Discarding https://files.pythonhosted.org/packages/2b/ca/5c086c18de8f70222787b3e824e755b68d99272531522e77bb381d4f60c8/pypiwin32-219.zip#sha256=06d478295c89dbdd4187e1ac099bb8eab93c29e298bded4e2fbc77009287fa44 (from https://pypi.org/simple/pypiwin32/). Command errored out with exit status 1: python setup.py egg_info Check the logs for full command output.\u001b[0m\n",
            "\u001b[?25hINFO: pip is looking at multiple versions of win10toast to determine which version is compatible with other requirements. This could take a while.\n",
            "Collecting win10toast\n",
            "  Downloading win10toast-0.8-py2.py3-none-any.whl (20 kB)\n",
            "  Downloading win10toast-0.2-py2.py3-none-any.whl (22 kB)\n",
            "\u001b[31mERROR: Could not find a version that satisfies the requirement pywin32 (from win10toast) (from versions: none)\u001b[0m\n",
            "\u001b[31mERROR: No matching distribution found for pywin32\u001b[0m\n"
          ]
        }
      ]
    },
    {
      "cell_type": "code",
      "source": [
        "#线程控制实现定时器\n",
        "from win10toast import ToastNotifier\n",
        "import time\n",
        "toaster = ToastNotifier\n",
        "\n",
        "header = input(\"title of reminder:\")\n",
        "text = input(\"Message of reminder:\")\n",
        "time_min = float(input(\"In how many minutes:\"))\n",
        "time_min = time_min*60\n",
        "print(\"Setting up reminder...\")\n",
        "time.sleep(2)\n",
        "print(\"All set!\")\n",
        "time.sleep(time_min)\n",
        "toaster.show_toast(f\"{header}\",\n",
        "f\"{text}\",\n",
        "duration=10,\n",
        "threaded=True)\n",
        "while toaster.notification_active(): time.sleep(0.005) "
      ],
      "metadata": {
        "id": "VkVk6k8V_Z8Y"
      },
      "execution_count": null,
      "outputs": []
    },
    {
      "cell_type": "code",
      "source": [
        "!pip install datetime"
      ],
      "metadata": {
        "colab": {
          "base_uri": "https://localhost:8080/"
        },
        "id": "vf_WtdH8Gs_J",
        "outputId": "8014df5e-f4bf-4e44-d0e3-82b35f7dfdbe"
      },
      "execution_count": null,
      "outputs": [
        {
          "output_type": "stream",
          "name": "stdout",
          "text": [
            "Looking in indexes: https://pypi.org/simple, https://us-python.pkg.dev/colab-wheels/public/simple/\n",
            "Collecting datetime\n",
            "  Downloading DateTime-4.7-py2.py3-none-any.whl (52 kB)\n",
            "\u001b[K     |████████████████████████████████| 52 kB 773 kB/s \n",
            "\u001b[?25hCollecting zope.interface\n",
            "  Downloading zope.interface-5.5.0-cp37-cp37m-manylinux_2_5_x86_64.manylinux1_x86_64.manylinux_2_12_x86_64.manylinux2010_x86_64.whl (254 kB)\n",
            "\u001b[K     |████████████████████████████████| 254 kB 10.0 MB/s \n",
            "\u001b[?25hRequirement already satisfied: pytz in /usr/local/lib/python3.7/dist-packages (from datetime) (2022.4)\n",
            "Requirement already satisfied: setuptools in /usr/local/lib/python3.7/dist-packages (from zope.interface->datetime) (57.4.0)\n",
            "Installing collected packages: zope.interface, datetime\n",
            "Successfully installed datetime-4.7 zope.interface-5.5.0\n"
          ]
        }
      ]
    },
    {
      "cell_type": "code",
      "source": [
        "from datetime import datetime   \n",
        "from playsound import playsound\n",
        "alarm_time = input(\"Enter the time of alarm to be set:HH:MM:SS\\n\")\n",
        "alarm_hour=alarm_time[0:2]\n",
        "alarm_minute=alarm_time[3:5]\n",
        "alarm_seconds=alarm_time[6:8]\n",
        "alarm_period = alarm_time[9:11].upper()\n",
        "print(\"Setting up alarm..\")\n",
        "while True:\n",
        "    now = datetime.now()\n",
        "    current_hour = now.strftime(\"%I\")\n",
        "    current_minute = now.strftime(\"%M\")\n",
        "    current_seconds = now.strftime(\"%S\")\n",
        "    current_period = now.strftime(\"%p\")\n",
        "    if(alarm_period==current_period):\n",
        "        if(alarm_hour==current_hour):\n",
        "            if(alarm_minute==current_minute):\n",
        "                if(alarm_seconds==current_seconds):\n",
        "                    print(\"Wake Up!\")\n",
        "                    playsound('audio.mp3') ## download the alarm sound from link\n",
        "                    break"
      ],
      "metadata": {
        "colab": {
          "base_uri": "https://localhost:8080/"
        },
        "id": "qdPY630ZHHMR",
        "outputId": "c2ab241c-896d-40b0-bf15-a330251f628a"
      },
      "execution_count": null,
      "outputs": [
        {
          "output_type": "stream",
          "name": "stdout",
          "text": [
            "Looking in indexes: https://pypi.org/simple, https://us-python.pkg.dev/colab-wheels/public/simple/\n",
            "Collecting playsound\n",
            "  Downloading playsound-1.3.0.tar.gz (7.7 kB)\n",
            "Building wheels for collected packages: playsound\n",
            "  Building wheel for playsound (setup.py) ... \u001b[?25l\u001b[?25hdone\n",
            "  Created wheel for playsound: filename=playsound-1.3.0-py3-none-any.whl size=7035 sha256=d6a30f3665b73f562c545d014154720e0d447b50644ea11e1844e7c9f4aad908\n",
            "  Stored in directory: /root/.cache/pip/wheels/ba/f8/bb/ea57c0146b664dca3a0ada4199b0ecb5f9dfcb7b7e22b65ba2\n",
            "Successfully built playsound\n",
            "Installing collected packages: playsound\n",
            "Successfully installed playsound-1.3.0\n"
          ]
        }
      ]
    },
    {
      "cell_type": "code",
      "source": [
        "!pip install forex_python"
      ],
      "metadata": {
        "colab": {
          "base_uri": "https://localhost:8080/"
        },
        "id": "fB_9DrGrLO34",
        "outputId": "b18fcf11-d177-4a68-e97d-6e9d5f1c601e"
      },
      "execution_count": null,
      "outputs": [
        {
          "output_type": "stream",
          "name": "stdout",
          "text": [
            "Looking in indexes: https://pypi.org/simple, https://us-python.pkg.dev/colab-wheels/public/simple/\n",
            "Collecting forex_python\n",
            "  Downloading forex_python-1.8-py3-none-any.whl (8.2 kB)\n",
            "Requirement already satisfied: requests in /usr/local/lib/python3.7/dist-packages (from forex_python) (2.23.0)\n",
            "Collecting simplejson\n",
            "  Downloading simplejson-3.17.6-cp37-cp37m-manylinux_2_5_x86_64.manylinux1_x86_64.manylinux_2_12_x86_64.manylinux2010_x86_64.whl (130 kB)\n",
            "\u001b[K     |████████████████████████████████| 130 kB 5.3 MB/s \n",
            "\u001b[?25hRequirement already satisfied: idna<3,>=2.5 in /usr/local/lib/python3.7/dist-packages (from requests->forex_python) (2.10)\n",
            "Requirement already satisfied: certifi>=2017.4.17 in /usr/local/lib/python3.7/dist-packages (from requests->forex_python) (2022.9.24)\n",
            "Requirement already satisfied: chardet<4,>=3.0.2 in /usr/local/lib/python3.7/dist-packages (from requests->forex_python) (3.0.4)\n",
            "Requirement already satisfied: urllib3!=1.25.0,!=1.25.1,<1.26,>=1.21.1 in /usr/local/lib/python3.7/dist-packages (from requests->forex_python) (1.24.3)\n",
            "Installing collected packages: simplejson, forex-python\n",
            "Successfully installed forex-python-1.8 simplejson-3.17.6\n"
          ]
        }
      ]
    },
    {
      "cell_type": "code",
      "source": [
        "from forex_python.converter import CurrencyRates\n",
        "\n",
        "c = CurrencyRates()\n",
        "\n",
        "currencyFrom = input(\"You want to change from:\").upper()\n",
        "currencyTo = input(\"You want to change to:\").upper()\n",
        "amount = float(input(\"How much do you want to change:\"))\n",
        "\n",
        "result = c.convert(currencyFrom,currencyTo,amount)\n",
        "print(result)"
      ],
      "metadata": {
        "id": "8TS32qP4GFNa",
        "colab": {
          "base_uri": "https://localhost:8080/"
        },
        "outputId": "48ad1815-3a20-456b-b37f-f3a92cea8507"
      },
      "execution_count": null,
      "outputs": [
        {
          "output_type": "stream",
          "name": "stdout",
          "text": [
            "You want to change from:jpy\n",
            "You want to change to:usd\n",
            "How much do you want to change:10000\n",
            "68.69436201780415\n"
          ]
        }
      ]
    },
    {
      "cell_type": "code",
      "source": [
        "from bs4 import BeautifulSoup\n",
        "import requests\n",
        "\n",
        "headers = {'User-Agent': 'Mozilla/5.0 (Windows NT 10.0; Win64; x64) AppleWebKit/537.36 (KHTML, like Gecko) Chrome/58.0.3029.110 Safari/537.3'}\n",
        "def google(query):\n",
        "    query = query.replace(\" \",\"+\")\n",
        "    try:\n",
        "        url = f'https://www.google.com/search?q={query}&oq={query}&aqs=chrome..69i57j46j69i59j35i39j0j46j0l2.4948j0j7&sourceid=chrome&ie=UTF-8'\n",
        "        res = requests.get(url,headers=headers)\n",
        "        soup = BeautifulSoup(res.text,'html.parser')\n",
        "    except:\n",
        "        print(\"Make sure you have a internet connection\")\n",
        "    try:\n",
        "        try:\n",
        "            ans = soup.select('.RqBzHd')[0].getText().strip()\n",
        "\n",
        "        except:\n",
        "            try:\n",
        "                title=soup.select('.AZCkJd')[0].getText().strip()\n",
        "                try:\n",
        "                    ans=soup.select('.e24Kjd')[0].getText().strip()\n",
        "                except:\n",
        "                    ans=\"\"\n",
        "                ans=f'{title}\\n{ans}'\n",
        "\n",
        "            except:\n",
        "                try:\n",
        "                    ans=soup.select('.hgKElc')[0].getText().strip()\n",
        "                except:\n",
        "                    ans=soup.select('.kno-rdesc span')[0].getText().strip()\n",
        "\n",
        "    except:\n",
        "        ans = \"can't find on google\"\n",
        "    return ans\n",
        "\n",
        "result = google(str(input(\"Query\\n\")))\n",
        "print(result)"
      ],
      "metadata": {
        "id": "uqyxLmgWN9g7",
        "colab": {
          "base_uri": "https://localhost:8080/"
        },
        "outputId": "e59c9412-9ed6-45fc-ddf3-e46f0d29c777"
      },
      "execution_count": 1,
      "outputs": [
        {
          "output_type": "stream",
          "name": "stdout",
          "text": [
            "Query\n",
            "Kanazawa\n",
            "Kanazawa is the capital of Ishikawa Prefecture, on Japan’s central Honshu Island. It's known for well-preserved Edo-era districts, art museums and regional handicrafts. Kenrokuen Garden, begun in the 17th century, is celebrated for its classic landscape designs incorporating ponds and streams. Adjacent Kanazawa Castle was built in the 1580s, after the defeat of the Peasant’s Kingdom, Japan's only Buddhist fiefdom. &horbar Google\n"
          ]
        }
      ]
    }
  ]
}