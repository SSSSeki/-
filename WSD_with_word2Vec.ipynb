{
  "nbformat": 4,
  "nbformat_minor": 0,
  "metadata": {
    "colab": {
      "provenance": [],
      "mount_file_id": "1QhU7szyOC2-bsIj4lv8DjEHeguUkTI98",
      "authorship_tag": "ABX9TyOc4e9jMjoP2zQJfGkj4rqJ",
      "include_colab_link": true
    },
    "kernelspec": {
      "name": "python3",
      "display_name": "Python 3"
    },
    "language_info": {
      "name": "python"
    }
  },
  "cells": [
    {
      "cell_type": "markdown",
      "metadata": {
        "id": "view-in-github",
        "colab_type": "text"
      },
      "source": [
        "<a href=\"https://colab.research.google.com/github/SSSSeki/-/blob/master/WSD_with_word2Vec.ipynb\" target=\"_parent\"><img src=\"https://colab.research.google.com/assets/colab-badge.svg\" alt=\"Open In Colab\"/></a>"
      ]
    },
    {
      "cell_type": "code",
      "source": [
        "import nltk\n",
        "from nltk.corpus import semcor\n",
        "nltk.download('semcor')\n",
        "nltk.download('omw-1.4')\n",
        "nltk.download('wordnet')\n",
        "nltk.download('punkt')\n",
        "import warnings\n",
        "\n",
        "from google.colab import drive\n",
        "drive.mount('/content/drive')\n",
        "import os\n",
        "os.chdir('/content/drive/My Drive')\n"
      ],
      "metadata": {
        "colab": {
          "base_uri": "https://localhost:8080/"
        },
        "id": "FvTpE85PaLuG",
        "outputId": "2892e3f2-630a-4531-ed39-496dacd92804"
      },
      "execution_count": null,
      "outputs": [
        {
          "output_type": "stream",
          "name": "stderr",
          "text": [
            "[nltk_data] Downloading package semcor to /root/nltk_data...\n",
            "[nltk_data] Downloading package omw-1.4 to /root/nltk_data...\n",
            "[nltk_data] Downloading package wordnet to /root/nltk_data...\n",
            "[nltk_data] Downloading package punkt to /root/nltk_data...\n",
            "[nltk_data]   Unzipping tokenizers/punkt.zip.\n"
          ]
        },
        {
          "output_type": "stream",
          "name": "stdout",
          "text": [
            "Drive already mounted at /content/drive; to attempt to forcibly remount, call drive.mount(\"/content/drive\", force_remount=True).\n"
          ]
        }
      ]
    },
    {
      "cell_type": "code",
      "source": [
        "!pip install gensim"
      ],
      "metadata": {
        "colab": {
          "base_uri": "https://localhost:8080/"
        },
        "id": "KG6oY_OEk7yf",
        "outputId": "8183397f-22e3-4884-c8f3-bab642838858"
      },
      "execution_count": null,
      "outputs": [
        {
          "output_type": "stream",
          "name": "stdout",
          "text": [
            "Looking in indexes: https://pypi.org/simple, https://us-python.pkg.dev/colab-wheels/public/simple/\n",
            "Requirement already satisfied: gensim in /usr/local/lib/python3.7/dist-packages (3.6.0)\n",
            "Requirement already satisfied: six>=1.5.0 in /usr/local/lib/python3.7/dist-packages (from gensim) (1.15.0)\n",
            "Requirement already satisfied: numpy>=1.11.3 in /usr/local/lib/python3.7/dist-packages (from gensim) (1.21.6)\n",
            "Requirement already satisfied: smart-open>=1.2.1 in /usr/local/lib/python3.7/dist-packages (from gensim) (5.2.1)\n",
            "Requirement already satisfied: scipy>=0.18.1 in /usr/local/lib/python3.7/dist-packages (from gensim) (1.7.3)\n"
          ]
        }
      ]
    },
    {
      "cell_type": "code",
      "source": [
        "import multiprocessing\n",
        "import gensim\n",
        "from gensim.models import Word2Vec\n",
        "\n",
        "warnings.filterwarnings(action='ignore', category=UserWarning, module='gensim')\n",
        "\n",
        "input = semcor.sents()\n",
        "#print(input)\n",
        "\n",
        "out_model = 'word2Vec_1.model'\n",
        "out_vector = 'word2Vec_1.vector'\n",
        "\n",
        "model = Word2Vec(input, size=50, window=5, min_count=5,workers=multiprocessing.cpu_count())\n",
        "model.save(out_model)\n",
        "# save word vector\n",
        "model.wv.save_word2vec_format(out_vector, binary=False)"
      ],
      "metadata": {
        "id": "DTqz98ZSyzgI"
      },
      "execution_count": null,
      "outputs": []
    },
    {
      "cell_type": "code",
      "source": [
        "\n",
        "from sklearn.metrics.pairwise import cosine_similarity\n",
        "from gensim.models import Word2Vec\n",
        "from nltk.corpus import wordnet as wn\n",
        "from string import punctuation\n",
        "import numpy as np\n",
        "\n",
        "def w2v_mean(essay,model):\n",
        "    ls=np.zeros(50)\n",
        "    for unit in essay:\n",
        "        try:\n",
        "            ls=ls+np.array(model.wv[unit])\n",
        "        except:\n",
        "            pass\n",
        "    return ls/len(essay)\n",
        "\n",
        "def predict(sentence,word):\n",
        "  model=Word2Vec.load(r'word2Vec_1.model')\n",
        "\n",
        "  content=sentence\n",
        "  token_content=nltk.word_tokenize(content)\n",
        "  content_vec=w2v_mean(token_content,model)\n",
        "  \n",
        "  dict={}\n",
        "  for unit in wn.synsets(word):\n",
        "    txt=unit.definition()\n",
        "    #print(txt)\n",
        "    txt_name=unit.name()\n",
        "    token_text=nltk.word_tokenize(txt)\n",
        "    txt0=[k for k in token_text if k not in punctuation]\n",
        "    #print(txt0)\n",
        "\n",
        "    vec=w2v_mean(txt0,model)\n",
        "    #Calculate Cosine Similarity\n",
        "    print(txt,'+',txt_name,'+',cosine_similarity([vec,content_vec])[1][0])\n",
        "    dict.update({txt_name:cosine_similarity([vec,content_vec])[1][0]}) \n",
        "  print('=======================================')\n",
        "  #print(max(dict,key=dict.get))\n",
        "#test\n",
        "predict('We are walking around the bank slowly','bank')"
      ],
      "metadata": {
        "id": "PDpYAZl01BNM",
        "colab": {
          "base_uri": "https://localhost:8080/"
        },
        "outputId": "a79ee98c-6576-4f8a-c35e-dca155cbc31c"
      },
      "execution_count": null,
      "outputs": [
        {
          "output_type": "stream",
          "name": "stdout",
          "text": [
            "sloping land (especially the slope beside a body of water) + bank.n.01 + 0.6806497263980127\n",
            "a financial institution that accepts deposits and channels the money into lending activities + depository_financial_institution.n.01 + 0.687041349816767\n",
            "a long ridge or pile + bank.n.03 + 0.564585196207325\n",
            "an arrangement of similar objects in a row or in tiers + bank.n.04 + 0.5925954635709143\n",
            "a supply or stock held in reserve for future use (especially in emergencies) + bank.n.05 + 0.7180469954776373\n",
            "the funds held by a gambling house or the dealer in some gambling games + bank.n.06 + 0.7050622251551792\n",
            "a slope in the turn of a road or track; the outside is higher than the inside in order to reduce the effects of centrifugal force + bank.n.07 + 0.6932796314021007\n",
            "a container (usually with a slot in the top) for keeping money at home + savings_bank.n.02 + 0.6284643660812461\n",
            "a building in which the business of banking transacted + bank.n.09 + 0.5471572903889758\n",
            "a flight maneuver; aircraft tips laterally about its longitudinal axis (especially in turning) + bank.n.10 + 0.7301845433408249\n",
            "tip laterally + bank.v.01 + 0.7047024485405512\n",
            "enclose with a bank + bank.v.02 + 0.5181822837615753\n",
            "do business with a bank or keep an account at a bank + bank.v.03 + 0.7276913839276168\n",
            "act as the banker in a game or in gambling + bank.v.04 + 0.6053563988235617\n",
            "be in the banking business + bank.v.05 + 0.6832202329152334\n",
            "put into a bank account + deposit.v.02 + 0.612426942556184\n",
            "cover with ashes so to control the rate of burning + bank.v.07 + 0.7395505851638976\n",
            "have confidence or faith in + trust.v.01 + 0.6678980181233816\n",
            "=======================================\n"
          ]
        }
      ]
    }
  ]
}