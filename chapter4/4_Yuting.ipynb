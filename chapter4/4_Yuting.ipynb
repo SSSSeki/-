{
  "nbformat": 4,
  "nbformat_minor": 0,
  "metadata": {
    "colab": {
      "name": "pos.ipynb",
      "provenance": [],
      "authorship_tag": "ABX9TyOGAT2Th/M9Zwug7uhaw2Ag",
      "include_colab_link": true
    },
    "kernelspec": {
      "name": "python3",
      "display_name": "Python 3"
    },
    "language_info": {
      "name": "python"
    }
  },
  "cells": [
    {
      "cell_type": "markdown",
      "metadata": {
        "id": "view-in-github",
        "colab_type": "text"
      },
      "source": [
        "<a href=\"https://colab.research.google.com/github/SSSSeki/-/blob/master/chapter4/4_Yuting.ipynb\" target=\"_parent\"><img src=\"https://colab.research.google.com/assets/colab-badge.svg\" alt=\"Open In Colab\"/></a>"
      ]
    },
    {
      "cell_type": "code",
      "execution_count": null,
      "metadata": {
        "colab": {
          "base_uri": "https://localhost:8080/"
        },
        "outputId": "43ed6b5f-c742-48b1-e117-f009865390ff",
        "id": "5K3eh-EZBTU-"
      },
      "outputs": [
        {
          "output_type": "stream",
          "name": "stdout",
          "text": [
            "[{'word': 'ALICE', 'lemma': 'ALICE', 'pos': 'NNP'}, {'word': \"'S\", 'lemma': \"'s\", 'pos': 'POS'}, {'word': 'ADVENTURES', 'lemma': 'ADVENTURES', 'pos': 'NNP'}, {'word': 'IN', 'lemma': 'in', 'pos': 'IN'}, {'word': 'WONDERLAND', 'lemma': 'WONDERLAND', 'pos': 'NNP'}]\n",
            "\n",
            "\n",
            "[{'word': 'Lewis', 'lemma': 'Lewis', 'pos': 'NNP'}, {'word': 'Carroll', 'lemma': 'Carroll', 'pos': 'NNP'}]\n",
            "\n",
            "\n",
            "[{'word': 'THE', 'lemma': 'the', 'pos': 'DT'}, {'word': 'MILLENNIUM', 'lemma': 'MILLENNIUM', 'pos': 'NNP'}, {'word': 'FULCRUM', 'lemma': 'FULCRUM', 'pos': 'NNP'}, {'word': 'EDITION', 'lemma': 'EDITION', 'pos': 'NNP'}, {'word': '3.0', 'lemma': '3.0', 'pos': 'CD'}]\n",
            "\n",
            "\n",
            "[{'word': 'CHAPTER', 'lemma': 'chapter', 'pos': 'NN'}, {'word': 'I.', 'lemma': 'i.', 'pos': 'NN'}, {'word': 'Down', 'lemma': 'down', 'pos': 'IN'}, {'word': 'the', 'lemma': 'the', 'pos': 'DT'}, {'word': 'Rabbit-Hole', 'lemma': 'Rabbit-Hole', 'pos': 'NNP'}]\n",
            "\n",
            "\n",
            "[{'word': 'Alice', 'lemma': 'Alice', 'pos': 'NNP'}, {'word': 'was', 'lemma': 'be', 'pos': 'VBD'}, {'word': 'beginning', 'lemma': 'begin', 'pos': 'VBG'}, {'word': 'to', 'lemma': 'to', 'pos': 'TO'}, {'word': 'get', 'lemma': 'get', 'pos': 'VB'}, {'word': 'very', 'lemma': 'very', 'pos': 'RB'}, {'word': 'tired', 'lemma': 'tired', 'pos': 'JJ'}, {'word': 'of', 'lemma': 'of', 'pos': 'IN'}, {'word': 'sitting', 'lemma': 'sit', 'pos': 'VBG'}, {'word': 'by', 'lemma': 'by', 'pos': 'IN'}, {'word': 'her', 'lemma': 'she', 'pos': 'PRP$'}, {'word': 'sister', 'lemma': 'sister', 'pos': 'NN'}, {'word': 'on', 'lemma': 'on', 'pos': 'IN'}, {'word': 'the', 'lemma': 'the', 'pos': 'DT'}, {'word': 'bank', 'lemma': 'bank', 'pos': 'NN'}, {'word': ',', 'lemma': ',', 'pos': ','}, {'word': 'and', 'lemma': 'and', 'pos': 'CC'}, {'word': 'of', 'lemma': 'of', 'pos': 'IN'}, {'word': 'having', 'lemma': 'have', 'pos': 'VBG'}, {'word': 'nothing', 'lemma': 'nothing', 'pos': 'NN'}, {'word': 'to', 'lemma': 'to', 'pos': 'TO'}, {'word': 'do', 'lemma': 'do', 'pos': 'VB'}, {'word': ':', 'lemma': ':', 'pos': ':'}, {'word': 'once', 'lemma': 'once', 'pos': 'RB'}, {'word': 'or', 'lemma': 'or', 'pos': 'CC'}, {'word': 'twice', 'lemma': 'twice', 'pos': 'RB'}, {'word': 'she', 'lemma': 'she', 'pos': 'PRP'}, {'word': 'had', 'lemma': 'have', 'pos': 'VBD'}, {'word': 'peeped', 'lemma': 'peep', 'pos': 'VBN'}, {'word': 'into', 'lemma': 'into', 'pos': 'IN'}, {'word': 'the', 'lemma': 'the', 'pos': 'DT'}, {'word': 'book', 'lemma': 'book', 'pos': 'NN'}, {'word': 'her', 'lemma': 'she', 'pos': 'PRP$'}, {'word': 'sister', 'lemma': 'sister', 'pos': 'NN'}, {'word': 'was', 'lemma': 'be', 'pos': 'VBD'}, {'word': 'reading', 'lemma': 'read', 'pos': 'VBG'}, {'word': ',', 'lemma': ',', 'pos': ','}, {'word': 'but', 'lemma': 'but', 'pos': 'CC'}, {'word': 'it', 'lemma': 'it', 'pos': 'PRP'}, {'word': 'had', 'lemma': 'have', 'pos': 'VBD'}, {'word': 'no', 'lemma': 'no', 'pos': 'DT'}, {'word': 'pictures', 'lemma': 'picture', 'pos': 'NNS'}, {'word': 'or', 'lemma': 'or', 'pos': 'CC'}, {'word': 'conversations', 'lemma': 'conversation', 'pos': 'NNS'}, {'word': 'in', 'lemma': 'in', 'pos': 'IN'}, {'word': 'it', 'lemma': 'it', 'pos': 'PRP'}, {'word': ',', 'lemma': ',', 'pos': ','}, {'word': '`', 'lemma': '`', 'pos': '``'}, {'word': 'and', 'lemma': 'and', 'pos': 'CC'}, {'word': 'what', 'lemma': 'what', 'pos': 'WP'}, {'word': 'is', 'lemma': 'be', 'pos': 'VBZ'}, {'word': 'the', 'lemma': 'the', 'pos': 'DT'}, {'word': 'use', 'lemma': 'use', 'pos': 'NN'}, {'word': 'of', 'lemma': 'of', 'pos': 'IN'}, {'word': 'a', 'lemma': 'a', 'pos': 'DT'}, {'word': 'book', 'lemma': 'book', 'pos': 'NN'}, {'word': ',', 'lemma': ',', 'pos': ','}, {'word': \"'\", 'lemma': \"'\", 'pos': \"''\"}, {'word': 'thought', 'lemma': 'think', 'pos': 'VBD'}, {'word': 'Alice', 'lemma': 'Alice', 'pos': 'NNP'}, {'word': '`', 'lemma': '`', 'pos': '``'}, {'word': 'without', 'lemma': 'without', 'pos': 'IN'}, {'word': 'pictures', 'lemma': 'picture', 'pos': 'NNS'}, {'word': 'or', 'lemma': 'or', 'pos': 'CC'}, {'word': 'conversations', 'lemma': 'conversation', 'pos': 'NNS'}, {'word': '?', 'lemma': '?', 'pos': '.'}, {'word': \"'\", 'lemma': \"'\", 'pos': \"''\"}]\n",
            "\n",
            "\n",
            "[{'word': 'So', 'lemma': 'so', 'pos': 'IN'}, {'word': 'she', 'lemma': 'she', 'pos': 'PRP'}, {'word': 'was', 'lemma': 'be', 'pos': 'VBD'}, {'word': 'considering', 'lemma': 'consider', 'pos': 'VBG'}, {'word': 'in', 'lemma': 'in', 'pos': 'IN'}, {'word': 'her', 'lemma': 'she', 'pos': 'PRP$'}, {'word': 'own', 'lemma': 'own', 'pos': 'JJ'}, {'word': 'mind', 'lemma': 'mind', 'pos': 'NN'}, {'word': '-LRB-', 'lemma': '-lrb-', 'pos': '-LRB-'}, {'word': 'as', 'lemma': 'as', 'pos': 'RB'}, {'word': 'well', 'lemma': 'well', 'pos': 'RB'}, {'word': 'as', 'lemma': 'as', 'pos': 'IN'}, {'word': 'she', 'lemma': 'she', 'pos': 'PRP'}, {'word': 'could', 'lemma': 'could', 'pos': 'MD'}, {'word': ',', 'lemma': ',', 'pos': ','}, {'word': 'for', 'lemma': 'for', 'pos': 'IN'}, {'word': 'the', 'lemma': 'the', 'pos': 'DT'}, {'word': 'hot', 'lemma': 'hot', 'pos': 'JJ'}, {'word': 'day', 'lemma': 'day', 'pos': 'NN'}, {'word': 'made', 'lemma': 'make', 'pos': 'VBD'}, {'word': 'her', 'lemma': 'she', 'pos': 'PRP$'}, {'word': 'feel', 'lemma': 'feel', 'pos': 'NN'}, {'word': 'very', 'lemma': 'very', 'pos': 'RB'}, {'word': 'sleepy', 'lemma': 'sleepy', 'pos': 'JJ'}, {'word': 'and', 'lemma': 'and', 'pos': 'CC'}, {'word': 'stupid', 'lemma': 'stupid', 'pos': 'JJ'}, {'word': '-RRB-', 'lemma': '-rrb-', 'pos': '-RRB-'}, {'word': ',', 'lemma': ',', 'pos': ','}, {'word': 'whether', 'lemma': 'whether', 'pos': 'IN'}, {'word': 'the', 'lemma': 'the', 'pos': 'DT'}, {'word': 'pleasure', 'lemma': 'pleasure', 'pos': 'NN'}, {'word': 'of', 'lemma': 'of', 'pos': 'IN'}, {'word': 'making', 'lemma': 'make', 'pos': 'VBG'}, {'word': 'a', 'lemma': 'a', 'pos': 'DT'}, {'word': 'daisy-chain', 'lemma': 'daisy-chain', 'pos': 'NN'}, {'word': 'would', 'lemma': 'would', 'pos': 'MD'}, {'word': 'be', 'lemma': 'be', 'pos': 'VB'}, {'word': 'worth', 'lemma': 'worth', 'pos': 'JJ'}, {'word': 'the', 'lemma': 'the', 'pos': 'DT'}, {'word': 'trouble', 'lemma': 'trouble', 'pos': 'NN'}, {'word': 'of', 'lemma': 'of', 'pos': 'IN'}, {'word': 'getting', 'lemma': 'get', 'pos': 'VBG'}, {'word': 'up', 'lemma': 'up', 'pos': 'RB'}, {'word': 'and', 'lemma': 'and', 'pos': 'CC'}, {'word': 'picking', 'lemma': 'pick', 'pos': 'VBG'}, {'word': 'the', 'lemma': 'the', 'pos': 'DT'}, {'word': 'daisies', 'lemma': 'daisy', 'pos': 'NNS'}, {'word': ',', 'lemma': ',', 'pos': ','}, {'word': 'when', 'lemma': 'when', 'pos': 'WRB'}, {'word': 'suddenly', 'lemma': 'suddenly', 'pos': 'RB'}, {'word': 'a', 'lemma': 'a', 'pos': 'DT'}, {'word': 'White', 'lemma': 'White', 'pos': 'NNP'}, {'word': 'Rabbit', 'lemma': 'rabbit', 'pos': 'NN'}, {'word': 'with', 'lemma': 'with', 'pos': 'IN'}, {'word': 'pink', 'lemma': 'pink', 'pos': 'JJ'}, {'word': 'eyes', 'lemma': 'eye', 'pos': 'NNS'}, {'word': 'ran', 'lemma': 'run', 'pos': 'VBD'}, {'word': 'close', 'lemma': 'close', 'pos': 'RB'}, {'word': 'by', 'lemma': 'by', 'pos': 'IN'}, {'word': 'her', 'lemma': 'she', 'pos': 'PRP'}, {'word': '.', 'lemma': '.', 'pos': '.'}]\n",
            "\n",
            "\n",
            "[{'word': 'There', 'lemma': 'there', 'pos': 'EX'}, {'word': 'was', 'lemma': 'be', 'pos': 'VBD'}, {'word': 'nothing', 'lemma': 'nothing', 'pos': 'NN'}, {'word': 'so', 'lemma': 'so', 'pos': 'RB'}, {'word': 'VERY', 'lemma': 'very', 'pos': 'RB'}, {'word': 'remarkable', 'lemma': 'remarkable', 'pos': 'JJ'}, {'word': 'in', 'lemma': 'in', 'pos': 'IN'}, {'word': 'that', 'lemma': 'that', 'pos': 'DT'}, {'word': ';', 'lemma': ';', 'pos': ':'}, {'word': 'nor', 'lemma': 'nor', 'pos': 'CC'}, {'word': 'did', 'lemma': 'do', 'pos': 'VBD'}, {'word': 'Alice', 'lemma': 'Alice', 'pos': 'NNP'}, {'word': 'think', 'lemma': 'think', 'pos': 'VB'}, {'word': 'it', 'lemma': 'it', 'pos': 'PRP'}, {'word': 'so', 'lemma': 'so', 'pos': 'RB'}, {'word': 'VERY', 'lemma': 'very', 'pos': 'RB'}, {'word': 'much', 'lemma': 'much', 'pos': 'JJ'}, {'word': 'out', 'lemma': 'out', 'pos': 'IN'}, {'word': 'of', 'lemma': 'of', 'pos': 'IN'}, {'word': 'the', 'lemma': 'the', 'pos': 'DT'}, {'word': 'way', 'lemma': 'way', 'pos': 'NN'}, {'word': 'to', 'lemma': 'to', 'pos': 'TO'}, {'word': 'hear', 'lemma': 'hear', 'pos': 'VB'}, {'word': 'the', 'lemma': 'the', 'pos': 'DT'}, {'word': 'Rabbit', 'lemma': 'rabbit', 'pos': 'NN'}, {'word': 'say', 'lemma': 'say', 'pos': 'VBP'}, {'word': 'to', 'lemma': 'to', 'pos': 'TO'}, {'word': 'itself', 'lemma': 'itself', 'pos': 'PRP'}, {'word': ',', 'lemma': ',', 'pos': ','}, {'word': '`', 'lemma': '`', 'pos': '``'}, {'word': 'Oh', 'lemma': 'oh', 'pos': 'UH'}, {'word': 'dear', 'lemma': 'dear', 'pos': 'RB'}, {'word': '!', 'lemma': '!', 'pos': '.'}]\n",
            "\n",
            "\n",
            "[{'word': 'Oh', 'lemma': 'oh', 'pos': 'UH'}, {'word': 'dear', 'lemma': 'dear', 'pos': 'RB'}, {'word': '!', 'lemma': '!', 'pos': '.'}]\n",
            "\n",
            "\n",
            "[{'word': 'I', 'lemma': 'I', 'pos': 'PRP'}, {'word': 'shall', 'lemma': 'shall', 'pos': 'MD'}, {'word': 'be', 'lemma': 'be', 'pos': 'VB'}, {'word': 'late', 'lemma': 'late', 'pos': 'JJ'}, {'word': '!', 'lemma': '!', 'pos': '.'}, {'word': \"'\", 'lemma': \"'\", 'pos': \"''\"}]\n",
            "\n",
            "\n",
            "[{'word': '-LRB-', 'lemma': '-lrb-', 'pos': '-LRB-'}, {'word': 'when', 'lemma': 'when', 'pos': 'WRB'}, {'word': 'she', 'lemma': 'she', 'pos': 'PRP'}, {'word': 'thought', 'lemma': 'think', 'pos': 'VBD'}, {'word': 'it', 'lemma': 'it', 'pos': 'PRP'}, {'word': 'over', 'lemma': 'over', 'pos': 'IN'}, {'word': 'afterwards', 'lemma': 'afterwards', 'pos': 'RB'}, {'word': ',', 'lemma': ',', 'pos': ','}, {'word': 'it', 'lemma': 'it', 'pos': 'PRP'}, {'word': 'occurred', 'lemma': 'occur', 'pos': 'VBD'}, {'word': 'to', 'lemma': 'to', 'pos': 'TO'}, {'word': 'her', 'lemma': 'she', 'pos': 'PRP$'}, {'word': 'that', 'lemma': 'that', 'pos': 'IN'}, {'word': 'she', 'lemma': 'she', 'pos': 'PRP'}, {'word': 'ought', 'lemma': 'ought', 'pos': 'MD'}, {'word': 'to', 'lemma': 'to', 'pos': 'TO'}, {'word': 'have', 'lemma': 'have', 'pos': 'VB'}, {'word': 'wondered', 'lemma': 'wonder', 'pos': 'VBN'}, {'word': 'at', 'lemma': 'at', 'pos': 'IN'}, {'word': 'this', 'lemma': 'this', 'pos': 'DT'}, {'word': ',', 'lemma': ',', 'pos': ','}, {'word': 'but', 'lemma': 'but', 'pos': 'CC'}, {'word': 'at', 'lemma': 'at', 'pos': 'IN'}, {'word': 'the', 'lemma': 'the', 'pos': 'DT'}, {'word': 'time', 'lemma': 'time', 'pos': 'NN'}, {'word': 'it', 'lemma': 'it', 'pos': 'PRP'}, {'word': 'all', 'lemma': 'all', 'pos': 'DT'}, {'word': 'seemed', 'lemma': 'seem', 'pos': 'VBD'}, {'word': 'quite', 'lemma': 'quite', 'pos': 'RB'}, {'word': 'natural', 'lemma': 'natural', 'pos': 'JJ'}, {'word': '-RRB-', 'lemma': '-rrb-', 'pos': '-RRB-'}, {'word': ';', 'lemma': ';', 'pos': ':'}, {'word': 'but', 'lemma': 'but', 'pos': 'CC'}, {'word': 'when', 'lemma': 'when', 'pos': 'WRB'}, {'word': 'the', 'lemma': 'the', 'pos': 'DT'}, {'word': 'Rabbit', 'lemma': 'rabbit', 'pos': 'NN'}, {'word': 'actually', 'lemma': 'actually', 'pos': 'RB'}, {'word': 'TOOK', 'lemma': 'take', 'pos': 'VBD'}, {'word': 'A', 'lemma': 'a', 'pos': 'DT'}, {'word': 'WATCH', 'lemma': 'watch', 'pos': 'VBP'}, {'word': 'OUT', 'lemma': 'OUT', 'pos': 'NNP'}, {'word': 'OF', 'lemma': 'of', 'pos': 'IN'}, {'word': 'ITS', 'lemma': 'ITS', 'pos': 'NNP'}, {'word': 'WAISTCOAT-POCKET', 'lemma': 'WAISTCOAT-POCKET', 'pos': 'NNP'}, {'word': ',', 'lemma': ',', 'pos': ','}, {'word': 'and', 'lemma': 'and', 'pos': 'CC'}, {'word': 'looked', 'lemma': 'look', 'pos': 'VBD'}, {'word': 'at', 'lemma': 'at', 'pos': 'IN'}, {'word': 'it', 'lemma': 'it', 'pos': 'PRP'}, {'word': ',', 'lemma': ',', 'pos': ','}, {'word': 'and', 'lemma': 'and', 'pos': 'CC'}, {'word': 'then', 'lemma': 'then', 'pos': 'RB'}, {'word': 'hurried', 'lemma': 'hurry', 'pos': 'VBD'}, {'word': 'on', 'lemma': 'on', 'pos': 'IN'}, {'word': ',', 'lemma': ',', 'pos': ','}, {'word': 'Alice', 'lemma': 'Alice', 'pos': 'NNP'}, {'word': 'started', 'lemma': 'start', 'pos': 'VBD'}, {'word': 'to', 'lemma': 'to', 'pos': 'TO'}, {'word': 'her', 'lemma': 'she', 'pos': 'PRP$'}, {'word': 'feet', 'lemma': 'foot', 'pos': 'NNS'}, {'word': ',', 'lemma': ',', 'pos': ','}, {'word': 'for', 'lemma': 'for', 'pos': 'IN'}, {'word': 'it', 'lemma': 'it', 'pos': 'PRP'}, {'word': 'flashed', 'lemma': 'flash', 'pos': 'VBD'}, {'word': 'across', 'lemma': 'across', 'pos': 'IN'}, {'word': 'her', 'lemma': 'she', 'pos': 'PRP$'}, {'word': 'mind', 'lemma': 'mind', 'pos': 'NN'}, {'word': 'that', 'lemma': 'that', 'pos': 'IN'}, {'word': 'she', 'lemma': 'she', 'pos': 'PRP'}, {'word': 'had', 'lemma': 'have', 'pos': 'VBD'}, {'word': 'never', 'lemma': 'never', 'pos': 'RB'}, {'word': 'before', 'lemma': 'before', 'pos': 'RB'}, {'word': 'seen', 'lemma': 'see', 'pos': 'VBN'}, {'word': 'a', 'lemma': 'a', 'pos': 'DT'}, {'word': 'rabbit', 'lemma': 'rabbit', 'pos': 'NN'}, {'word': 'with', 'lemma': 'with', 'pos': 'IN'}, {'word': 'either', 'lemma': 'either', 'pos': 'CC'}, {'word': 'a', 'lemma': 'a', 'pos': 'DT'}, {'word': 'waistcoat-pocket', 'lemma': 'waistcoat-pocket', 'pos': 'NN'}, {'word': ',', 'lemma': ',', 'pos': ','}, {'word': 'or', 'lemma': 'or', 'pos': 'CC'}, {'word': 'a', 'lemma': 'a', 'pos': 'DT'}, {'word': 'watch', 'lemma': 'watch', 'pos': 'NN'}, {'word': 'to', 'lemma': 'to', 'pos': 'TO'}, {'word': 'take', 'lemma': 'take', 'pos': 'VB'}, {'word': 'out', 'lemma': 'out', 'pos': 'RP'}, {'word': 'of', 'lemma': 'of', 'pos': 'IN'}, {'word': 'it', 'lemma': 'it', 'pos': 'PRP'}, {'word': ',', 'lemma': ',', 'pos': ','}, {'word': 'and', 'lemma': 'and', 'pos': 'CC'}, {'word': 'burning', 'lemma': 'burn', 'pos': 'VBG'}, {'word': 'with', 'lemma': 'with', 'pos': 'IN'}, {'word': 'curiosity', 'lemma': 'curiosity', 'pos': 'NN'}, {'word': ',', 'lemma': ',', 'pos': ','}, {'word': 'she', 'lemma': 'she', 'pos': 'PRP'}, {'word': 'ran', 'lemma': 'run', 'pos': 'VBD'}, {'word': 'across', 'lemma': 'across', 'pos': 'IN'}, {'word': 'the', 'lemma': 'the', 'pos': 'DT'}, {'word': 'field', 'lemma': 'field', 'pos': 'NN'}, {'word': 'after', 'lemma': 'after', 'pos': 'IN'}, {'word': 'it', 'lemma': 'it', 'pos': 'PRP'}, {'word': ',', 'lemma': ',', 'pos': ','}, {'word': 'and', 'lemma': 'and', 'pos': 'CC'}, {'word': 'fortunately', 'lemma': 'fortunately', 'pos': 'RB'}, {'word': 'was', 'lemma': 'be', 'pos': 'VBD'}, {'word': 'just', 'lemma': 'just', 'pos': 'RB'}, {'word': 'in', 'lemma': 'in', 'pos': 'IN'}, {'word': 'time', 'lemma': 'time', 'pos': 'NN'}, {'word': 'to', 'lemma': 'to', 'pos': 'TO'}, {'word': 'see', 'lemma': 'see', 'pos': 'VB'}, {'word': 'it', 'lemma': 'it', 'pos': 'PRP'}, {'word': 'pop', 'lemma': 'pop', 'pos': 'VB'}, {'word': 'down', 'lemma': 'down', 'pos': 'RP'}, {'word': 'a', 'lemma': 'a', 'pos': 'DT'}, {'word': 'large', 'lemma': 'large', 'pos': 'JJ'}, {'word': 'rabbit-hole', 'lemma': 'rabbit-hole', 'pos': 'NN'}, {'word': 'under', 'lemma': 'under', 'pos': 'IN'}, {'word': 'the', 'lemma': 'the', 'pos': 'DT'}, {'word': 'hedge', 'lemma': 'hedge', 'pos': 'NN'}, {'word': '.', 'lemma': '.', 'pos': '.'}]\n",
            "\n",
            "\n"
          ]
        }
      ],
      "source": [
        "from sre_constants import IN_LOC_IGNORE\n",
        "import nltk\n",
        "from nltk.corpus import stopwords\n",
        "from nltk.tokenize import word_tokenize, sent_tokenize\n",
        "import json\n",
        "import numpy as np\n",
        "\n",
        "\n",
        "#30\n",
        "def pos(file_path):\n",
        "  pos_text = []\n",
        "  with open(file_path,'r',encoding='utf8')as fp:\n",
        "      json_data = json.load(fp)\n",
        "      sentences = json_data['sentences']\n",
        "      \n",
        "      i = 0\n",
        "      j = 0\n",
        "      \n",
        "      while i < len(sentences):\n",
        "        pos_sen = []\n",
        "        sentence = sentences[i]['tokens']\n",
        "\n",
        "        while j < len(sentence):\n",
        "          pos = {}\n",
        "          pos['word'] = sentence[j].get('word')\n",
        "          pos['lemma'] = sentence[j].get('lemma')\n",
        "          pos['pos'] = sentence[j].get('pos')\n",
        "          pos_sen.append(pos)\n",
        "          j += 1\n",
        "        j=0\n",
        "        pos_text.append(pos_sen)\n",
        "        i += 1  \n",
        "\n",
        "  for i in range(0,10):\n",
        "    print(pos_text[i])\n",
        "    print('\\n')\n",
        "  return pos_text\n",
        "\n",
        "pos_text = pos(\"/content/alice.txt.json\")"
      ]
    },
    {
      "cell_type": "code",
      "source": [
        "import pandas as pd\n",
        "df = pd.DataFrame(columns=['words','lemma','pos_tag'])\n",
        "import re\n",
        "\n",
        "#31#32\n",
        "def dataframe():\n",
        "  words = []\n",
        "  pos_tag = []\n",
        "  lemma = []\n",
        "  for sentence in pos_text:\n",
        "    for element in sentence:\n",
        "        words.append(element['word'])\n",
        "        lemma.append(element['lemma'])\n",
        "        pos_tag.append(element['pos'])\n",
        "  df['words'] = words\n",
        "  df['lemma'] = lemma\n",
        "  df['pos_tag'] = pos_tag\n",
        "\n",
        "  drop_index = df.index[(df['pos_tag'] != 'VB') &(df['pos_tag'] != 'VBD') &(df['pos_tag'] != 'VBN') &(df['pos_tag'] != 'VBP') &(df['pos_tag'] != 'VBZ')]\n",
        "  df_verb = df.drop(drop_index)\n",
        "  print(df_verb[['words']])\n",
        "  print(df_verb[['lemma']])\n",
        "  return df\n",
        "\n",
        "df_verb = dataframe()"
      ],
      "metadata": {
        "id": "DWdpLgMOpcBF",
        "colab": {
          "base_uri": "https://localhost:8080/"
        },
        "outputId": "fb064d97-e0fc-47ad-ca82-305e9797b22a"
      },
      "execution_count": null,
      "outputs": [
        {
          "output_type": "stream",
          "name": "stdout",
          "text": [
            "        words\n",
            "18        was\n",
            "21        get\n",
            "38         do\n",
            "44        had\n",
            "45     peeped\n",
            "...       ...\n",
            "34368    keep\n",
            "34389  gather\n",
            "34397    make\n",
            "34424    feel\n",
            "34432    find\n",
            "\n",
            "[5120 rows x 1 columns]\n",
            "        lemma\n",
            "18         be\n",
            "21        get\n",
            "38         do\n",
            "44       have\n",
            "45       peep\n",
            "...       ...\n",
            "34368    keep\n",
            "34389  gather\n",
            "34397    make\n",
            "34424    feel\n",
            "34432    find\n",
            "\n",
            "[5120 rows x 1 columns]\n"
          ]
        }
      ]
    },
    {
      "cell_type": "code",
      "source": [
        "#33\n",
        "of_list = []\n",
        "\n",
        "for sen in pos_text:     \n",
        "  for i in range(1,len(sen)-1):\n",
        "    #print(sen[i]['word'])\n",
        "    if sen[i-1]['pos']==('NNP'or'NN') and sen[i]['lemma']=='of' and sen[i+1]['pos']==('NNP'or'NN'):\n",
        "      of_list.append(sen[i - 1]['word'] +' '+ sen[i]['lemma'] + ' ' + sen[i + 1]['word'])\n",
        "print(of_list) "
      ],
      "metadata": {
        "id": "aludQogXQbNn",
        "colab": {
          "base_uri": "https://localhost:8080/"
        },
        "outputId": "8628a76f-980a-48b6-d444-45cf3cd69aba"
      },
      "execution_count": null,
      "outputs": [
        {
          "output_type": "stream",
          "name": "stdout",
          "text": [
            "['OUT of ITS']\n"
          ]
        }
      ]
    },
    {
      "cell_type": "code",
      "source": [
        "#34\n"
      ],
      "metadata": {
        "id": "O7cxawqAF5-j"
      },
      "execution_count": null,
      "outputs": []
    },
    {
      "cell_type": "code",
      "source": [
        "+#35#36\n",
        "#with stop words\n",
        "print(\"with stop words\\n\")\n",
        "def word_frequency_sw():\n",
        "  #print(df['lemma'].value_counts())\n",
        "  top_ten = df['lemma'].value_counts().head(10)\n",
        "  print(top_ten)\n",
        "  top_ten.plot.bar()\n",
        "word_frequency_sw()\n"
      ],
      "metadata": {
        "id": "cfsbMZy-cpHg",
        "colab": {
          "base_uri": "https://localhost:8080/",
          "height": 509
        },
        "outputId": "607ecb60-b1de-40a2-c6ad-1a1009f14ef2"
      },
      "execution_count": null,
      "outputs": [
        {
          "output_type": "stream",
          "name": "stdout",
          "text": [
            "with stop words\n",
            "\n",
            ",      2418\n",
            "the    1639\n",
            "'      1130\n",
            "`      1081\n",
            "be     1076\n",
            ".       986\n",
            "and     866\n",
            "she     794\n",
            "to      725\n",
            "a       688\n",
            "Name: lemma, dtype: int64\n"
          ]
        },
        {
          "output_type": "display_data",
          "data": {
            "text/plain": [
              "<Figure size 432x288 with 1 Axes>"
            ],
            "image/png": "[encoded data removed]"
          },
          "metadata": {
            "needs_background": "light"
          }
        }
      ]
    },
    {
      "cell_type": "code",
      "source": [
        "#35#36\n",
        "#without stop words\n",
        "print(\"\\nwithout stop words\\n\")\n",
        "import nltk\n",
        "from string import punctuation\n",
        "\n",
        "#nltk.download('stopwords')\n",
        "stop_words = stopwords.words('english')\n",
        "\n",
        "df_words_nsw = pd.Series()\n",
        "def word_frequency():\n",
        "  words = []\n",
        "  words = df['lemma']\n",
        "  words_nsw  = []\n",
        "  for word in words:\n",
        "    word = word.lower()\n",
        "    if (word not in stop_words)&(word not in punctuation):\n",
        "      words_nsw.append(word)\n",
        "      df_words_nsw = pd.Series(words_nsw)\n",
        "  #print(df_words_nsw.value_counts())\n",
        "  top_ten_nsw = df_words_nsw.value_counts().head(10)\n",
        "  print(top_ten_nsw)\n",
        "  top_ten_nsw.plot.bar()\n",
        "word_frequency()"
      ],
      "metadata": {
        "id": "w3ZsCmDTZV26",
        "colab": {
          "base_uri": "https://localhost:8080/",
          "height": 537
        },
        "outputId": "ebe62659-4693-4515-8b8c-8c2c2b8d5bc0"
      },
      "execution_count": null,
      "outputs": [
        {
          "output_type": "stream",
          "name": "stdout",
          "text": [
            "\n",
            "without stop words\n",
            "\n",
            "say       532\n",
            "alice     398\n",
            "--        264\n",
            "go        179\n",
            "think     133\n",
            "little    128\n",
            "would     122\n",
            "get       113\n",
            "know      107\n",
            "one       105\n",
            "dtype: int64\n"
          ]
        },
        {
          "output_type": "display_data",
          "data": {
            "text/plain": [
              "<Figure size 432x288 with 1 Axes>"
            ],
            "image/png": "[encoded data removed]"
          },
          "metadata": {
            "needs_background": "light"
          }
        }
      ]
    },
    {
      "cell_type": "code",
      "source": [
        "from numpy.lib.shape_base import column_stack\n",
        "from pandas.core.base import duplicated\n",
        "import matplotlib.pyplot as plt\n",
        "\n",
        "#38 I dont entirely understand what the exercise means \n",
        "df_value= df[['lemma','pos_tag']].value_counts().reset_index()  #index reset\n",
        "df_value.columns = ['lemma', 'pos_tag','counts'] \n",
        "df_value_grouped = df_value[['counts','lemma']].groupby(['counts'],as_index=False) #as_index=false\n",
        "\n",
        "groups = df_value_grouped.count()    #generate a table for counts and pos_tag\n",
        "groups.reset_index()\n",
        "groups.columns = ['groupnum','lemma_counts']\n",
        "print(groups)\n",
        "\n",
        "plt.hist(groups['lemma_counts'], bins=100)\n",
        "plt.xlabel('frequency')\n",
        "plt.ylabel('count of words')\n",
        "plt.show()"
      ],
      "metadata": {
        "colab": {
          "base_uri": "https://localhost:8080/",
          "height": 531
        },
        "id": "5c0ZCmZ_QR4K",
        "outputId": "b98c3f96-5a62-44b0-a572-04a0b15b906e"
      },
      "execution_count": 91,
      "outputs": [
        {
          "output_type": "stream",
          "name": "stdout",
          "text": [
            "     groupnum  lemma_counts\n",
            "0           1          1481\n",
            "1           2           487\n",
            "2           3           247\n",
            "3           4           161\n",
            "4           5           112\n",
            "..        ...           ...\n",
            "117       986             1\n",
            "118      1081             1\n",
            "119      1127             1\n",
            "120      1639             1\n",
            "121      2418             1\n",
            "\n",
            "[122 rows x 2 columns]\n"
          ]
        },
        {
          "output_type": "display_data",
          "data": {
            "text/plain": [
              "<Figure size 432x288 with 1 Axes>"
            ],
            "image/png": "[encoded data removed]"
          },
          "metadata": {
            "needs_background": "light"
          }
        }
      ]
    },
    {
      "cell_type": "code",
      "source": [
        "#39 "
      ],
      "metadata": {
        "id": "-fc6By4leDI3"
      },
      "execution_count": null,
      "outputs": []
    }
  ]
}