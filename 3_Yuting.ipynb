{
  "nbformat": 4,
  "nbformat_minor": 0,
  "metadata": {
    "colab": {
      "name": "3_Yuting.ipynb",
      "provenance": [],
      "authorship_tag": "ABX9TyOErdre5dUxHTuIWp75bjWq",
      "include_colab_link": true
    },
    "kernelspec": {
      "name": "python3",
      "display_name": "Python 3"
    },
    "language_info": {
      "name": "python"
    }
  },
  "cells": [
    {
      "cell_type": "markdown",
      "metadata": {
        "id": "view-in-github",
        "colab_type": "text"
      },
      "source": [
        "<a href=\"https://colab.research.google.com/github/SSSSeki/-/blob/master/3_Yuting.ipynb\" target=\"_parent\"><img src=\"https://colab.research.google.com/assets/colab-badge.svg\" alt=\"Open In Colab\"/></a>"
      ]
    },
    {
      "cell_type": "code",
      "execution_count": null,
      "metadata": {
        "id": "sIn6uEQOD0Em"
      },
      "outputs": [],
      "source": [
        "import json\n",
        "import gzip\n",
        "\n",
        "def read_json(filename):\n",
        "  with gzip.open(filename, 'r') as file:\n",
        "    for line in file:\n",
        "      json_data = json.loads(line)\n",
        "      if json_data['title'] == 'United Kingdom':\n",
        "        return json_data['text']\n",
        "json_uk = read_json('/content/enwiki-country.json.gz')\n",
        "print(json_uk)\n"
      ]
    },
    {
      "cell_type": "markdown",
      "source": [
        "{{Main|Culture of the United Kingdom}}\n",
        "The culture of the United Kingdom has been influenced by many factors including: the nation's island status; its [[History of the United Kingdom|history]] as a western liberal democracy and a major power; as well as being a [[political union]] of four countries with each "
      ],
      "metadata": {
        "id": "ORmaYL0eJv29"
      }
    },
    {
      "cell_type": "code",
      "source": [
        "import json\n",
        "import gzip\n",
        "import re\n",
        "import io\n",
        "\n",
        "#20. Read JSON documents\n",
        "def read_json(filename):\n",
        "  with gzip.open(filename, 'r') as file:\n",
        "    for line in file:\n",
        "      json_data = json.loads(line)\n",
        "      if json_data['title'] == 'United Kingdom':\n",
        "        return json_data['text']\n",
        "json_uk = read_json('/content/enwiki-country.json.gz')\n",
        "\n",
        "#21. Lines with category names\n",
        "def is_category(text):\n",
        "    return re.match(r'^\\[\\[Category:.+\\]\\]$', text)\n",
        "\n",
        "def extract_category():\n",
        "    with io.StringIO(json_uk) as line:\n",
        "        for text in line:\n",
        "            if is_category(text):\n",
        "              print(text)\n",
        "\n",
        "extract_category()"
      ],
      "metadata": {
        "colab": {
          "base_uri": "https://localhost:8080/"
        },
        "id": "PJztWIZ4mKyL",
        "outputId": "2852de56-caef-4581-9394-4de57a83a698"
      },
      "execution_count": 49,
      "outputs": [
        {
          "output_type": "stream",
          "name": "stdout",
          "text": [
            "[[Category:United Kingdom| ]]\n",
            "\n",
            "[[Category:British Islands]]\n",
            "\n",
            "[[Category:Countries in Europe]]\n",
            "\n",
            "[[Category:English-speaking countries and territories]]\n",
            "\n",
            "[[Category:G7 nations]]\n",
            "\n",
            "[[Category:Group of Eight nations]]\n",
            "\n",
            "[[Category:G20 nations]]\n",
            "\n",
            "[[Category:Island countries]]\n",
            "\n",
            "[[Category:Northern European countries]]\n",
            "\n",
            "[[Category:Former member states of the European Union]]\n",
            "\n",
            "[[Category:Member states of NATO]]\n",
            "\n",
            "[[Category:Member states of the Commonwealth of Nations]]\n",
            "\n",
            "[[Category:Member states of the Council of Europe]]\n",
            "\n",
            "[[Category:Member states of the Union for the Mediterranean]]\n",
            "\n",
            "[[Category:Member states of the United Nations]]\n",
            "\n",
            "[[Category:Priority articles for attention after Brexit]]\n",
            "\n",
            "[[Category:Western European countries]]\n"
          ]
        }
      ]
    },
    {
      "cell_type": "code",
      "source": [
        "def is_category(text):\n",
        "    return re.match(r'^\\[\\[Category:.+\\]\\]$', text)\n",
        "def extract_category():\n",
        "    with io.StringIO(json_uk) as line:\n",
        "        for text in line:\n",
        "            if is_category(text):\n",
        "              text_sub = re.sub('[^\\w]',\" \",text)\n",
        "              print(text_sub[11:-1])\n",
        "extract_category()"
      ],
      "metadata": {
        "colab": {
          "base_uri": "https://localhost:8080/"
        },
        "id": "TJfJ2RTjby6v",
        "outputId": "596ba75d-0cab-4bad-eca1-42220d51225d"
      },
      "execution_count": 73,
      "outputs": [
        {
          "output_type": "stream",
          "name": "stdout",
          "text": [
            "United Kingdom    \n",
            "British Islands  \n",
            "Countries in Europe  \n",
            "English speaking countries and territories  \n",
            "G7 nations  \n",
            "Group of Eight nations  \n",
            "G20 nations  \n",
            "Island countries  \n",
            "Northern European countries  \n",
            "Former member states of the European Union  \n",
            "Member states of NATO  \n",
            "Member states of the Commonwealth of Nations  \n",
            "Member states of the Council of Europe  \n",
            "Member states of the Union for the Mediterranean  \n",
            "Member states of the United Nations  \n",
            "Priority articles for attention after Brexit  \n",
            "Western European countries \n"
          ]
        }
      ]
    },
    {
      "cell_type": "code",
      "source": [
        "#23. Section structure\n",
        "def is_section(text):\n",
        "    return re.match(r'==.+==', text)\n",
        "\n",
        "def extract_section():\n",
        "    with io.StringIO(json_uk) as line:\n",
        "        for text in line:\n",
        "            if is_section(text):\n",
        "              text_sub = re.sub('\\=',\"\",text)\n",
        "              print(text_sub)\n",
        "extract_section()"
      ],
      "metadata": {
        "colab": {
          "base_uri": "https://localhost:8080/"
        },
        "id": "ZW0IG3Ksb9gn",
        "outputId": "20134c82-e3f2-4c76-cc3b-618267f1a5b7"
      },
      "execution_count": 81,
      "outputs": [
        {
          "output_type": "stream",
          "name": "stdout",
          "text": [
            "Etymology and terminology\n",
            "\n",
            "History\n",
            "\n",
            "Background\n",
            "\n",
            "Treaty of Union\n",
            "\n",
            "From the union with Ireland to the end of the First World War\n",
            "\n",
            "Between the World Wars\n",
            "\n",
            "Since the Second World War\n",
            "\n",
            "Geography\n",
            "\n",
            "Climate\n",
            "\n",
            "Administrative divisions\n",
            "\n",
            "Dependencies\n",
            "\n",
            "Politics\n",
            "\n",
            "Government\n",
            "\n",
            "Devolved administrations\n",
            "\n",
            "Law and criminal justice\n",
            "\n",
            "Foreign relations\n",
            "\n",
            "Military\n",
            "\n",
            "Economy\n",
            "\n",
            "Overview\n",
            "\n",
            "Science and technology\n",
            "\n",
            "Transport\n",
            "\n",
            "Energy\n",
            "\n",
            "Water supply and sanitation\n",
            "\n",
            "Demographics\n",
            "\n",
            "Ethnic groups\n",
            "\n",
            "Languages\n",
            "\n",
            "Religion\n",
            "\n",
            "Migration\n",
            "\n",
            "Education\n",
            "\n",
            "Health\n",
            "\n",
            "Culture\n",
            "\n",
            "Literature\n",
            "\n",
            "Music\n",
            "\n",
            "Visual art\n",
            "\n",
            "Cinema\n",
            "\n",
            " Cuisine \n",
            "\n",
            "Media\n",
            "\n",
            "Philosophy\n",
            "\n",
            "Sport\n",
            "\n",
            "Symbols\n",
            "\n",
            "Stereotypes\n",
            "\n",
            "Historiography\n",
            "\n",
            "See also\n",
            "\n",
            "Notes\n",
            "\n",
            "References\n",
            "\n",
            "External links\n",
            "\n"
          ]
        }
      ]
    },
    {
      "cell_type": "code",
      "source": [
        "#24. Media references\n",
        "def is_url(text):\n",
        "    return re.match(r'\\[\\[File:.+?\\|', text)\n",
        "def extract_url():\n",
        "    with io.StringIO(json_uk) as line:\n",
        "        for text in line:\n",
        "            if is_url(text):\n",
        "              #? means stop when the first alphbet found is match\n",
        "              match = re.match(r'\\[\\[File:.+?\\|', text)\n",
        "              print(match.group()[7:-1])\n",
        "extract_url()"
      ],
      "metadata": {
        "colab": {
          "base_uri": "https://localhost:8080/"
        },
        "id": "Rr_PAjmyg99D",
        "outputId": "a28ac026-7e2d-4b07-fa44-6a97ccec6ac7"
      },
      "execution_count": 105,
      "outputs": [
        {
          "output_type": "stream",
          "name": "stdout",
          "text": [
            "Stonehenge, Condado de Wiltshire, Inglaterra, 2014-08-12, DD 18.JPG\n",
            "Bayeux Tapestry WillelmDux.jpg\n",
            "State House- 1620 - St Geo - Bermuda.jpg\n",
            "Treaty of Union.jpg\n",
            "Royal Irish Rifles ration party Somme July 1916.jpg\n",
            "The British Empire.png\n",
            "Tratado de Lisboa 13 12 2007 (081).jpg\n",
            "Uk topo en.jpg\n",
            "London Parliament 2007-1.jpg\n",
            "UK Political System.png\n",
            "Scottish Parliament, Main Debating Chamber - geograph.org.uk - 1650829.jpg\n",
            "Royal Courts of Justice 2019.jpg\n",
            "High Court of Justiciary.jpg\n",
            "Gibraltar National Day 027 (9719742224) (2).jpg\n",
            "HMS Queen Elizabeth (R08) underway during trials with HMS Sutherland (F81) and HMS Iron Duke (F234) on 28 June 2017 (45162784).jpg\n",
            "Banco de Inglaterra, Londres, Inglaterra, 2014-08-11, DD 141.JPG\n",
            "2017 Jaguar XE Portfolio Diesel Automatic 2.0 Front.jpg\n",
            "British Airways A380-841 G-XLEA (16948377692).jpg\n",
            "Darwin restored2.jpg\n",
            "Heathrow T5.jpg\n",
            "St Pancras Railway Station 2012-06-23.jpg\n",
            "Oil platform in the North SeaPros.jpg\n",
            "Population density UK 2011 census.png\n",
            "Non-white in the 2011 census.png\n",
            "Anglospeak.png\n",
            "West Side of Westminster Abbey, London - geograph.org.uk - 1406999.jpg\n",
            "Neasden Temple - Shree Swaminarayan Hindu Mandir - Gate.jpg\n",
            "United Kingdom foreign born population by country of birth.png\n",
            "The Prime Minister, Shri Narendra Modi and the Prime Minister of United Kingdom (UK), Mr. David Cameron interacting with the school children, at Wembley Stadium, in London on November 13, 2015.jpg\n",
            "British expats countrymap.svg\n",
            "Tom Quad, Christ Church 2004-01-21.jpg\n",
            "KingsCollegeChapelWest.jpg\n",
            "Edinburgh New College (8594473141).jpg\n",
            "15th Sep 2012-Abdn Children's Hosp & Emergency Care Centre 10.JPG\n",
            "Shakespeare.jpg\n",
            "Dickens by Watkins 1858.png\n",
            "The Fabs.JPG\n",
            "Turner selfportrait.jpg\n",
            "Hitchcock, Alfred 02.jpg\n",
            "Chicken tikka masala.jpg\n",
            "Bbc broadcasting house front.jpg\n",
            "Wembley-STadion 2013.JPG\n",
            "Inside the Millennium Stadium, Cardiff.jpg\n",
            "Saville vs Broady – Wimbledon Boys Singles Final 2011.jpg\n",
            "R&A Clubhouse, Old Course, Swilcan Burn bridge.jpg\n",
            "Britannia-Statue.jpg\n"
          ]
        }
      ]
    }
  ]
}