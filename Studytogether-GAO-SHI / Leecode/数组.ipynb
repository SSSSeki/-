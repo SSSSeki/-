{
  "nbformat": 4,
  "nbformat_minor": 0,
  "metadata": {
    "colab": {
      "provenance": [],
      "authorship_tag": "ABX9TyNJckzX4YHqu3vH9ZO2iQb+",
      "include_colab_link": true
    },
    "kernelspec": {
      "name": "python3",
      "display_name": "Python 3"
    },
    "language_info": {
      "name": "python"
    }
  },
  "cells": [
    {
      "cell_type": "markdown",
      "metadata": {
        "id": "view-in-github",
        "colab_type": "text"
      },
      "source": [
        "<a href=\"https://colab.research.google.com/github/SSSSeki/-/blob/master/Studytogether-GAO-SHI%20/%20Leecode/%E6%95%B0%E7%BB%84.ipynb\" target=\"_parent\"><img src=\"https://colab.research.google.com/assets/colab-badge.svg\" alt=\"Open In Colab\"/></a>"
      ]
    },
    {
      "cell_type": "code",
      "execution_count": null,
      "metadata": {
        "id": "2QoJ8QAgOEBN"
      },
      "outputs": [],
      "source": [
        "#二分法\n",
        "#左闭右闭区间\n",
        "class solution:\n",
        "    def search(self, num: list[int], target: int )->int:\n",
        "      left = 0\n",
        "      right=num-1\n",
        "\n",
        "      while left<=right:\n",
        "        mid = (left+right)//2\n",
        "\n",
        "        if(target<mid):\n",
        "          right = mid-1\n",
        "        elif(target>mid):\n",
        "          left=mid+1               \n",
        "        else:\n",
        "          return mid\n",
        "      return -1\n",
        "\n",
        "#左开右闭区间\n",
        "class solution2:\n",
        "  def search(self,num:list[int],target:int)->int:\n",
        "    left = 0\n",
        "    right = num\n",
        "\n",
        "    while left<right:\n",
        "      mid = (left+right)//2\n",
        "\n",
        "      if(target<mid):\n",
        "        right = mid-1\n",
        "      elif(target>mid):\n",
        "        left = mid+1\n",
        "      else:\n",
        "        return mid\n",
        "    return -1\n",
        "    \n",
        "#test\n",
        "l = [1,3,5,7,8,9,12]\n",
        "target=8\n",
        "\n"
      ]
    },
    {
      "cell_type": "code",
      "source": [
        "#数组的元素在内存地址中是连续的，不能单独删除数组中的某个元素，只能覆盖\n",
        "#双指针法（快慢指针法）： 通过一个快指针和慢指针在一个for循环下完成两个for循环的工作。\n",
        "class solution:\n",
        "  def remove(self, nums: List[int], val: int)->int:\n",
        "    int slowIndex=0\n",
        "    for fastIndex in range(0,len(nums)):\n",
        "      if val!=nums[fastIndex]:\n",
        "        nums[slowIndex++] = nums[fastIndex]\n",
        "    return slowIndex"
      ],
      "metadata": {
        "id": "KPnzbWLSrqIE"
      },
      "execution_count": null,
      "outputs": []
    },
    {
      "cell_type": "code",
      "source": [
        "#有序数组的排序，相对双指针\n",
        "class solution:\n",
        "  def squareSeq(self, num:list[int])->int:\n",
        "    int left = 0\n",
        "    int right = len(num)-1\n",
        "    int k = right\n",
        "    result = [-1]*k\n",
        "\n",
        "    while(left<right):\n",
        "      left_square = num[left]**2\n",
        "      right_square = num[right]**2\n",
        "      if(num[left]>num[right]):\n",
        "        result[k] = left_square\n",
        "        left+=1\n",
        "      else\n",
        "        result[k] = right_square\n",
        "        right-=1\n",
        "      k-=1 \n",
        "    return result"
      ],
      "metadata": {
        "id": "yvUnA2Exvy1O"
      },
      "execution_count": null,
      "outputs": []
    },
    {
      "cell_type": "code",
      "source": [],
      "metadata": {
        "id": "ckRXCWmU57M3"
      },
      "execution_count": null,
      "outputs": []
    }
  ]
}